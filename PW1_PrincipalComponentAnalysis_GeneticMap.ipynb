{
  "cells": [
    {
      "cell_type": "code",
      "execution_count": 2,
      "metadata": {
        "id": "HNcbJVN49tol"
      },
      "outputs": [],
      "source": [
        "import os\n",
        "import pandas\n",
        "import zipfile\n",
        "import urllib.request\n",
        "import plotnine\n",
        "from subprocess import Popen"
      ]
    },
    {
      "cell_type": "code",
      "execution_count": 3,
      "metadata": {
        "id": "9_EU6XvW9tom"
      },
      "outputs": [],
      "source": [
        "data_dir = \"data\"\n",
        "os.makedirs(data_dir, exist_ok=True)"
      ]
    },
    {
      "cell_type": "markdown",
      "metadata": {
        "id": "bTmWkLUA9tom"
      },
      "source": [
        "## Скачаем данные"
      ]
    },
    {
      "cell_type": "markdown",
      "metadata": {
        "id": "Q5vw1QWp9ton"
      },
      "source": [
        "### Скачаем архив"
      ]
    },
    {
      "cell_type": "code",
      "execution_count": 4,
      "metadata": {
        "colab": {
          "base_uri": "https://localhost:8080/"
        },
        "id": "3sM74Bbp9too",
        "outputId": "75179dac-7c3b-44f9-ca7e-0d4099158b7d"
      },
      "outputs": [
        {
          "output_type": "execute_result",
          "data": {
            "text/plain": [
              "('data/plink_data.zip', <http.client.HTTPMessage at 0x7efd2b8ec790>)"
            ]
          },
          "metadata": {},
          "execution_count": 4
        }
      ],
      "source": [
        "data_url = \"http://www.russiangenome.ru/biengi.zip\"\n",
        "data_zip = os.path.join(data_dir, \"plink_data.zip\")\n",
        "\n",
        "urllib.request.urlretrieve(data_url, data_zip)"
      ]
    },
    {
      "cell_type": "markdown",
      "metadata": {
        "id": "fo9q1tyK9top"
      },
      "source": [
        "### Распакуем архив"
      ]
    },
    {
      "cell_type": "code",
      "execution_count": 5,
      "metadata": {
        "id": "-1HXaKCf9top"
      },
      "outputs": [],
      "source": [
        "with zipfile.ZipFile(data_zip, 'r') as zipped_datafile:\n",
        "    zipped_datafile.extractall(data_dir)"
      ]
    },
    {
      "cell_type": "markdown",
      "metadata": {
        "id": "7CzJVsTD9top"
      },
      "source": [
        "### Получим путь к данным"
      ]
    },
    {
      "cell_type": "code",
      "execution_count": 6,
      "metadata": {
        "id": "S6b_dp979top"
      },
      "outputs": [],
      "source": [
        "data_prefix = [os.path.splitext(os.path.join(data_dir, file))[0] for file in os.listdir(data_dir) if file.endswith('.bed')][0]"
      ]
    },
    {
      "cell_type": "markdown",
      "metadata": {
        "id": "plSIvwhL9toq"
      },
      "source": [
        "## Скачаем plink"
      ]
    },
    {
      "cell_type": "code",
      "execution_count": 8,
      "metadata": {
        "id": "DyC_ONoi9toq"
      },
      "outputs": [],
      "source": [
        "%%bash\n",
        "URL64BIT=\"http://s3.amazonaws.com/plink1-assets/plink_linux_x86_64_20200121.zip\"\n",
        "URL32BIT=\"http://s3.amazonaws.com/plink1-assets/plink_linux_i686_20200121.zip\"\n",
        "\n",
        "# Измените версию если нужно\n",
        "URL=$URL64BIT\n",
        "\n",
        "wget -q $URL -O plink.zip\n",
        "unzip -q -n plink.zip plink"
      ]
    },
    {
      "cell_type": "markdown",
      "metadata": {
        "id": "nwV67Go79toq"
      },
      "source": [
        "## Определим функции для работы с plink"
      ]
    },
    {
      "cell_type": "code",
      "execution_count": 16,
      "metadata": {
        "id": "IrCiH92P9toq"
      },
      "outputs": [],
      "source": [
        "def prune_data(plink_prefix, out_prefix): \n",
        "    cmd = ['/content/plink', '--bfile', plink_prefix, #указываем файл, который идёт на вход\n",
        "           '--indep', '50', '5', '2', '--out', out_prefix #указываем, что хотим получить независимые позиции\n",
        "    ]\n",
        "    prune_result = out_prefix + '.prune.in' \n",
        "    assert Popen(cmd).wait() == 0\n",
        "\n",
        "    cmd = ['/content/plink', '--bfile', plink_prefix, '--extract', prune_result, #оставляем только отфильтрованные позиции\n",
        "           '--make-bed', '--out', out_prefix #сохраняем\n",
        "    ]\n",
        "    assert Popen(cmd).wait() == 0\n",
        "\n",
        "    return \n",
        "\n",
        "def pca_plink(plink_prefix, out_prefix, n_components=20): #получаем pca с помощью plink\n",
        "    cmd = ['/content/plink', '--pca', str(n_components), '--autosome'] #считаем только по аутосомам\n",
        "    cmd += ['--bfile', plink_prefix, '--out', out_prefix]\n",
        "\n",
        "    assert Popen(cmd).wait() == 0\n",
        "\n",
        "    return out_prefix + '.eigenvec', out_prefix + '.eigenval'\n",
        "\n",
        "def plot_pca(df, dim=2):  #просто отрисовываем\n",
        "    size=5\n",
        "    symbol='cicle',\n",
        "    opacity=1.\n",
        "    if dim == 2:\n",
        "        scatter = go.Scatter(\n",
        "            visible=True,\n",
        "            name=name,\n",
        "            x=df.loc[:, 0],\n",
        "            y=df.loc[:, 1],\n",
        "            text=[(name, indiv) for _, indiv in zip(\n",
        "                range(df.loc[:, cols[0]].shape[0]), point_names)],\n",
        "            textposition='middle right',\n",
        "            mode='markers',\n",
        "            marker=dict(size=size, opacity=opacity, symbol=symbol))\n",
        "    elif dim == 3:\n",
        "        scatter = go.Scatter3d(\n",
        "            visible=True,\n",
        "            name=name,\n",
        "            x=df.loc[:, 0],\n",
        "            y=df.loc[:, 1],\n",
        "            z=df.loc[:, 2],\n",
        "            text=[(name, indiv) for _, indiv in zip(\n",
        "                range(df.loc[:, cols[0]].shape[0]), point_names)],\n",
        "            textposition='middle right',\n",
        "            mode='markers',\n",
        "            marker=dict(size=size, opacity=opacity, symbol=symbol))\n",
        "    return scatter\n"
      ]
    },
    {
      "cell_type": "markdown",
      "metadata": {
        "id": "jNwmNOM99tor"
      },
      "source": [
        "# Посторим PCA"
      ]
    },
    {
      "cell_type": "markdown",
      "metadata": {
        "id": "4TxXEdhH9tor"
      },
      "source": [
        "## Запустим прунинг"
      ]
    },
    {
      "cell_type": "code",
      "execution_count": 17,
      "metadata": {
        "id": "rt0Ph6ZD9tor"
      },
      "outputs": [],
      "source": [
        "pruned_data = data_prefix + '_pruned'\n",
        "prune_data(data_prefix, pruned_data)"
      ]
    },
    {
      "cell_type": "markdown",
      "metadata": {
        "id": "bQLteH0B9tor"
      },
      "source": [
        "## Запустим PCA"
      ]
    },
    {
      "cell_type": "code",
      "execution_count": 18,
      "metadata": {
        "id": "fDXDmfry9tor"
      },
      "outputs": [],
      "source": [
        "pca_prefix = pruned_data + '_pruned'\n",
        "pca_eigenvec, pca_eigenval = pca_plink(pruned_data, pca_prefix)"
      ]
    },
    {
      "cell_type": "markdown",
      "metadata": {
        "id": "WYc9UOGf9tos"
      },
      "source": [
        "## Нарисуем PCA"
      ]
    },
    {
      "cell_type": "markdown",
      "metadata": {
        "id": "ytZNq_F59tos"
      },
      "source": [
        "### Прочитаем популяции"
      ]
    },
    {
      "cell_type": "code",
      "execution_count": 19,
      "metadata": {
        "id": "PP0hiSM59tos",
        "outputId": "95082b05-b50b-402e-9006-9b78a945d634",
        "colab": {
          "base_uri": "https://localhost:8080/",
          "height": 206
        }
      },
      "outputs": [
        {
          "output_type": "execute_result",
          "data": {
            "text/plain": [
              "                 FID                IID Population\n",
              "0  4461875510_R01C01  4461875510_R01C01      Karel\n",
              "1  4461875510_R01C02  4461875510_R01C02      Karel\n",
              "2  4461875510_R02C01  4461875510_R02C01      Karel\n",
              "3  4461875513_R02C02  4461875513_R02C02      Karel\n",
              "4  4461875513_R01C02  4461875513_R01C02      Karel"
            ],
            "text/html": [
              "\n",
              "  <div id=\"df-d13c2947-e4fd-404d-8780-34238ba86677\">\n",
              "    <div class=\"colab-df-container\">\n",
              "      <div>\n",
              "<style scoped>\n",
              "    .dataframe tbody tr th:only-of-type {\n",
              "        vertical-align: middle;\n",
              "    }\n",
              "\n",
              "    .dataframe tbody tr th {\n",
              "        vertical-align: top;\n",
              "    }\n",
              "\n",
              "    .dataframe thead th {\n",
              "        text-align: right;\n",
              "    }\n",
              "</style>\n",
              "<table border=\"1\" class=\"dataframe\">\n",
              "  <thead>\n",
              "    <tr style=\"text-align: right;\">\n",
              "      <th></th>\n",
              "      <th>FID</th>\n",
              "      <th>IID</th>\n",
              "      <th>Population</th>\n",
              "    </tr>\n",
              "  </thead>\n",
              "  <tbody>\n",
              "    <tr>\n",
              "      <th>0</th>\n",
              "      <td>4461875510_R01C01</td>\n",
              "      <td>4461875510_R01C01</td>\n",
              "      <td>Karel</td>\n",
              "    </tr>\n",
              "    <tr>\n",
              "      <th>1</th>\n",
              "      <td>4461875510_R01C02</td>\n",
              "      <td>4461875510_R01C02</td>\n",
              "      <td>Karel</td>\n",
              "    </tr>\n",
              "    <tr>\n",
              "      <th>2</th>\n",
              "      <td>4461875510_R02C01</td>\n",
              "      <td>4461875510_R02C01</td>\n",
              "      <td>Karel</td>\n",
              "    </tr>\n",
              "    <tr>\n",
              "      <th>3</th>\n",
              "      <td>4461875513_R02C02</td>\n",
              "      <td>4461875513_R02C02</td>\n",
              "      <td>Karel</td>\n",
              "    </tr>\n",
              "    <tr>\n",
              "      <th>4</th>\n",
              "      <td>4461875513_R01C02</td>\n",
              "      <td>4461875513_R01C02</td>\n",
              "      <td>Karel</td>\n",
              "    </tr>\n",
              "  </tbody>\n",
              "</table>\n",
              "</div>\n",
              "      <button class=\"colab-df-convert\" onclick=\"convertToInteractive('df-d13c2947-e4fd-404d-8780-34238ba86677')\"\n",
              "              title=\"Convert this dataframe to an interactive table.\"\n",
              "              style=\"display:none;\">\n",
              "        \n",
              "  <svg xmlns=\"http://www.w3.org/2000/svg\" height=\"24px\"viewBox=\"0 0 24 24\"\n",
              "       width=\"24px\">\n",
              "    <path d=\"M0 0h24v24H0V0z\" fill=\"none\"/>\n",
              "    <path d=\"M18.56 5.44l.94 2.06.94-2.06 2.06-.94-2.06-.94-.94-2.06-.94 2.06-2.06.94zm-11 1L8.5 8.5l.94-2.06 2.06-.94-2.06-.94L8.5 2.5l-.94 2.06-2.06.94zm10 10l.94 2.06.94-2.06 2.06-.94-2.06-.94-.94-2.06-.94 2.06-2.06.94z\"/><path d=\"M17.41 7.96l-1.37-1.37c-.4-.4-.92-.59-1.43-.59-.52 0-1.04.2-1.43.59L10.3 9.45l-7.72 7.72c-.78.78-.78 2.05 0 2.83L4 21.41c.39.39.9.59 1.41.59.51 0 1.02-.2 1.41-.59l7.78-7.78 2.81-2.81c.8-.78.8-2.07 0-2.86zM5.41 20L4 18.59l7.72-7.72 1.47 1.35L5.41 20z\"/>\n",
              "  </svg>\n",
              "      </button>\n",
              "      \n",
              "  <style>\n",
              "    .colab-df-container {\n",
              "      display:flex;\n",
              "      flex-wrap:wrap;\n",
              "      gap: 12px;\n",
              "    }\n",
              "\n",
              "    .colab-df-convert {\n",
              "      background-color: #E8F0FE;\n",
              "      border: none;\n",
              "      border-radius: 50%;\n",
              "      cursor: pointer;\n",
              "      display: none;\n",
              "      fill: #1967D2;\n",
              "      height: 32px;\n",
              "      padding: 0 0 0 0;\n",
              "      width: 32px;\n",
              "    }\n",
              "\n",
              "    .colab-df-convert:hover {\n",
              "      background-color: #E2EBFA;\n",
              "      box-shadow: 0px 1px 2px rgba(60, 64, 67, 0.3), 0px 1px 3px 1px rgba(60, 64, 67, 0.15);\n",
              "      fill: #174EA6;\n",
              "    }\n",
              "\n",
              "    [theme=dark] .colab-df-convert {\n",
              "      background-color: #3B4455;\n",
              "      fill: #D2E3FC;\n",
              "    }\n",
              "\n",
              "    [theme=dark] .colab-df-convert:hover {\n",
              "      background-color: #434B5C;\n",
              "      box-shadow: 0px 1px 3px 1px rgba(0, 0, 0, 0.15);\n",
              "      filter: drop-shadow(0px 1px 2px rgba(0, 0, 0, 0.3));\n",
              "      fill: #FFFFFF;\n",
              "    }\n",
              "  </style>\n",
              "\n",
              "      <script>\n",
              "        const buttonEl =\n",
              "          document.querySelector('#df-d13c2947-e4fd-404d-8780-34238ba86677 button.colab-df-convert');\n",
              "        buttonEl.style.display =\n",
              "          google.colab.kernel.accessAllowed ? 'block' : 'none';\n",
              "\n",
              "        async function convertToInteractive(key) {\n",
              "          const element = document.querySelector('#df-d13c2947-e4fd-404d-8780-34238ba86677');\n",
              "          const dataTable =\n",
              "            await google.colab.kernel.invokeFunction('convertToInteractive',\n",
              "                                                     [key], {});\n",
              "          if (!dataTable) return;\n",
              "\n",
              "          const docLinkHtml = 'Like what you see? Visit the ' +\n",
              "            '<a target=\"_blank\" href=https://colab.research.google.com/notebooks/data_table.ipynb>data table notebook</a>'\n",
              "            + ' to learn more about interactive tables.';\n",
              "          element.innerHTML = '';\n",
              "          dataTable['output_type'] = 'display_data';\n",
              "          await google.colab.output.renderOutput(dataTable, element);\n",
              "          const docLink = document.createElement('div');\n",
              "          docLink.innerHTML = docLinkHtml;\n",
              "          element.appendChild(docLink);\n",
              "        }\n",
              "      </script>\n",
              "    </div>\n",
              "  </div>\n",
              "  "
            ]
          },
          "metadata": {},
          "execution_count": 19
        }
      ],
      "source": [
        "pop_filename = data_prefix + \".pedind\"\n",
        "pop_df = pandas.read_csv(pop_filename, sep=\"\\s+\", header=None, usecols = [0, 1, 5],\n",
        "                        names=['FID', 'IID', 'Population'])\n",
        "\n",
        "pop_df.head()"
      ]
    },
    {
      "cell_type": "markdown",
      "metadata": {
        "id": "PlNJRqY_9tos"
      },
      "source": [
        "### Прочитаем результаты PCA"
      ]
    },
    {
      "cell_type": "code",
      "execution_count": 23,
      "metadata": {
        "id": "xOkV57PH9tos",
        "outputId": "bde15b04-d737-42df-ae75-82b52c31ffe3",
        "colab": {
          "base_uri": "https://localhost:8080/",
          "height": 236
        }
      },
      "outputs": [
        {
          "output_type": "execute_result",
          "data": {
            "text/plain": [
              "                  0                  1         2         3         4   \\\n",
              "0  4461875510_R01C01  4461875510_R01C01  0.023656  0.044685  0.024901   \n",
              "1  4461875510_R01C02  4461875510_R01C02  0.029982  0.033608  0.032103   \n",
              "2  4461875510_R02C01  4461875510_R02C01  0.025548  0.043980  0.023810   \n",
              "3  4461875513_R02C02  4461875513_R02C02  0.022953  0.045839  0.024924   \n",
              "4  4461875513_R01C02  4461875513_R01C02  0.024415  0.043405  0.018632   \n",
              "\n",
              "         5         6         7         8         9   ...        12        13  \\\n",
              "0 -0.012835 -0.009770  0.006716 -0.010370  0.006021  ...  0.005069  0.051467   \n",
              "1 -0.014175 -0.004904  0.022838 -0.003047  0.004947  ... -0.004695 -0.001433   \n",
              "2 -0.012104 -0.004047  0.016872 -0.007012  0.017078  ... -0.000110  0.040661   \n",
              "3 -0.015718 -0.011845  0.007434 -0.018396  0.024504  ... -0.013387  0.026770   \n",
              "4 -0.004825 -0.007012  0.008693 -0.011580  0.011086  ...  0.013590  0.035081   \n",
              "\n",
              "         14        15        16        17        18        19        20  \\\n",
              "0 -0.010690 -0.035015 -0.095092  0.014845 -0.033535 -0.013700  0.036779   \n",
              "1 -0.029270 -0.019349 -0.020024 -0.011725  0.016307  0.008480 -0.009798   \n",
              "2 -0.025415 -0.024280 -0.135829  0.018732 -0.032434 -0.039587  0.028321   \n",
              "3 -0.036955 -0.028485 -0.125899  0.049872 -0.016697 -0.007108  0.016528   \n",
              "4 -0.020707 -0.024508 -0.139401  0.012883 -0.033515 -0.008684  0.042671   \n",
              "\n",
              "         21  \n",
              "0  0.001613  \n",
              "1  0.005745  \n",
              "2  0.034078  \n",
              "3  0.005287  \n",
              "4 -0.008286  \n",
              "\n",
              "[5 rows x 22 columns]"
            ],
            "text/html": [
              "\n",
              "  <div id=\"df-b6b576bf-8e8b-4a95-a2c1-ea8b201f1fe6\">\n",
              "    <div class=\"colab-df-container\">\n",
              "      <div>\n",
              "<style scoped>\n",
              "    .dataframe tbody tr th:only-of-type {\n",
              "        vertical-align: middle;\n",
              "    }\n",
              "\n",
              "    .dataframe tbody tr th {\n",
              "        vertical-align: top;\n",
              "    }\n",
              "\n",
              "    .dataframe thead th {\n",
              "        text-align: right;\n",
              "    }\n",
              "</style>\n",
              "<table border=\"1\" class=\"dataframe\">\n",
              "  <thead>\n",
              "    <tr style=\"text-align: right;\">\n",
              "      <th></th>\n",
              "      <th>0</th>\n",
              "      <th>1</th>\n",
              "      <th>2</th>\n",
              "      <th>3</th>\n",
              "      <th>4</th>\n",
              "      <th>5</th>\n",
              "      <th>6</th>\n",
              "      <th>7</th>\n",
              "      <th>8</th>\n",
              "      <th>9</th>\n",
              "      <th>...</th>\n",
              "      <th>12</th>\n",
              "      <th>13</th>\n",
              "      <th>14</th>\n",
              "      <th>15</th>\n",
              "      <th>16</th>\n",
              "      <th>17</th>\n",
              "      <th>18</th>\n",
              "      <th>19</th>\n",
              "      <th>20</th>\n",
              "      <th>21</th>\n",
              "    </tr>\n",
              "  </thead>\n",
              "  <tbody>\n",
              "    <tr>\n",
              "      <th>0</th>\n",
              "      <td>4461875510_R01C01</td>\n",
              "      <td>4461875510_R01C01</td>\n",
              "      <td>0.023656</td>\n",
              "      <td>0.044685</td>\n",
              "      <td>0.024901</td>\n",
              "      <td>-0.012835</td>\n",
              "      <td>-0.009770</td>\n",
              "      <td>0.006716</td>\n",
              "      <td>-0.010370</td>\n",
              "      <td>0.006021</td>\n",
              "      <td>...</td>\n",
              "      <td>0.005069</td>\n",
              "      <td>0.051467</td>\n",
              "      <td>-0.010690</td>\n",
              "      <td>-0.035015</td>\n",
              "      <td>-0.095092</td>\n",
              "      <td>0.014845</td>\n",
              "      <td>-0.033535</td>\n",
              "      <td>-0.013700</td>\n",
              "      <td>0.036779</td>\n",
              "      <td>0.001613</td>\n",
              "    </tr>\n",
              "    <tr>\n",
              "      <th>1</th>\n",
              "      <td>4461875510_R01C02</td>\n",
              "      <td>4461875510_R01C02</td>\n",
              "      <td>0.029982</td>\n",
              "      <td>0.033608</td>\n",
              "      <td>0.032103</td>\n",
              "      <td>-0.014175</td>\n",
              "      <td>-0.004904</td>\n",
              "      <td>0.022838</td>\n",
              "      <td>-0.003047</td>\n",
              "      <td>0.004947</td>\n",
              "      <td>...</td>\n",
              "      <td>-0.004695</td>\n",
              "      <td>-0.001433</td>\n",
              "      <td>-0.029270</td>\n",
              "      <td>-0.019349</td>\n",
              "      <td>-0.020024</td>\n",
              "      <td>-0.011725</td>\n",
              "      <td>0.016307</td>\n",
              "      <td>0.008480</td>\n",
              "      <td>-0.009798</td>\n",
              "      <td>0.005745</td>\n",
              "    </tr>\n",
              "    <tr>\n",
              "      <th>2</th>\n",
              "      <td>4461875510_R02C01</td>\n",
              "      <td>4461875510_R02C01</td>\n",
              "      <td>0.025548</td>\n",
              "      <td>0.043980</td>\n",
              "      <td>0.023810</td>\n",
              "      <td>-0.012104</td>\n",
              "      <td>-0.004047</td>\n",
              "      <td>0.016872</td>\n",
              "      <td>-0.007012</td>\n",
              "      <td>0.017078</td>\n",
              "      <td>...</td>\n",
              "      <td>-0.000110</td>\n",
              "      <td>0.040661</td>\n",
              "      <td>-0.025415</td>\n",
              "      <td>-0.024280</td>\n",
              "      <td>-0.135829</td>\n",
              "      <td>0.018732</td>\n",
              "      <td>-0.032434</td>\n",
              "      <td>-0.039587</td>\n",
              "      <td>0.028321</td>\n",
              "      <td>0.034078</td>\n",
              "    </tr>\n",
              "    <tr>\n",
              "      <th>3</th>\n",
              "      <td>4461875513_R02C02</td>\n",
              "      <td>4461875513_R02C02</td>\n",
              "      <td>0.022953</td>\n",
              "      <td>0.045839</td>\n",
              "      <td>0.024924</td>\n",
              "      <td>-0.015718</td>\n",
              "      <td>-0.011845</td>\n",
              "      <td>0.007434</td>\n",
              "      <td>-0.018396</td>\n",
              "      <td>0.024504</td>\n",
              "      <td>...</td>\n",
              "      <td>-0.013387</td>\n",
              "      <td>0.026770</td>\n",
              "      <td>-0.036955</td>\n",
              "      <td>-0.028485</td>\n",
              "      <td>-0.125899</td>\n",
              "      <td>0.049872</td>\n",
              "      <td>-0.016697</td>\n",
              "      <td>-0.007108</td>\n",
              "      <td>0.016528</td>\n",
              "      <td>0.005287</td>\n",
              "    </tr>\n",
              "    <tr>\n",
              "      <th>4</th>\n",
              "      <td>4461875513_R01C02</td>\n",
              "      <td>4461875513_R01C02</td>\n",
              "      <td>0.024415</td>\n",
              "      <td>0.043405</td>\n",
              "      <td>0.018632</td>\n",
              "      <td>-0.004825</td>\n",
              "      <td>-0.007012</td>\n",
              "      <td>0.008693</td>\n",
              "      <td>-0.011580</td>\n",
              "      <td>0.011086</td>\n",
              "      <td>...</td>\n",
              "      <td>0.013590</td>\n",
              "      <td>0.035081</td>\n",
              "      <td>-0.020707</td>\n",
              "      <td>-0.024508</td>\n",
              "      <td>-0.139401</td>\n",
              "      <td>0.012883</td>\n",
              "      <td>-0.033515</td>\n",
              "      <td>-0.008684</td>\n",
              "      <td>0.042671</td>\n",
              "      <td>-0.008286</td>\n",
              "    </tr>\n",
              "  </tbody>\n",
              "</table>\n",
              "<p>5 rows × 22 columns</p>\n",
              "</div>\n",
              "      <button class=\"colab-df-convert\" onclick=\"convertToInteractive('df-b6b576bf-8e8b-4a95-a2c1-ea8b201f1fe6')\"\n",
              "              title=\"Convert this dataframe to an interactive table.\"\n",
              "              style=\"display:none;\">\n",
              "        \n",
              "  <svg xmlns=\"http://www.w3.org/2000/svg\" height=\"24px\"viewBox=\"0 0 24 24\"\n",
              "       width=\"24px\">\n",
              "    <path d=\"M0 0h24v24H0V0z\" fill=\"none\"/>\n",
              "    <path d=\"M18.56 5.44l.94 2.06.94-2.06 2.06-.94-2.06-.94-.94-2.06-.94 2.06-2.06.94zm-11 1L8.5 8.5l.94-2.06 2.06-.94-2.06-.94L8.5 2.5l-.94 2.06-2.06.94zm10 10l.94 2.06.94-2.06 2.06-.94-2.06-.94-.94-2.06-.94 2.06-2.06.94z\"/><path d=\"M17.41 7.96l-1.37-1.37c-.4-.4-.92-.59-1.43-.59-.52 0-1.04.2-1.43.59L10.3 9.45l-7.72 7.72c-.78.78-.78 2.05 0 2.83L4 21.41c.39.39.9.59 1.41.59.51 0 1.02-.2 1.41-.59l7.78-7.78 2.81-2.81c.8-.78.8-2.07 0-2.86zM5.41 20L4 18.59l7.72-7.72 1.47 1.35L5.41 20z\"/>\n",
              "  </svg>\n",
              "      </button>\n",
              "      \n",
              "  <style>\n",
              "    .colab-df-container {\n",
              "      display:flex;\n",
              "      flex-wrap:wrap;\n",
              "      gap: 12px;\n",
              "    }\n",
              "\n",
              "    .colab-df-convert {\n",
              "      background-color: #E8F0FE;\n",
              "      border: none;\n",
              "      border-radius: 50%;\n",
              "      cursor: pointer;\n",
              "      display: none;\n",
              "      fill: #1967D2;\n",
              "      height: 32px;\n",
              "      padding: 0 0 0 0;\n",
              "      width: 32px;\n",
              "    }\n",
              "\n",
              "    .colab-df-convert:hover {\n",
              "      background-color: #E2EBFA;\n",
              "      box-shadow: 0px 1px 2px rgba(60, 64, 67, 0.3), 0px 1px 3px 1px rgba(60, 64, 67, 0.15);\n",
              "      fill: #174EA6;\n",
              "    }\n",
              "\n",
              "    [theme=dark] .colab-df-convert {\n",
              "      background-color: #3B4455;\n",
              "      fill: #D2E3FC;\n",
              "    }\n",
              "\n",
              "    [theme=dark] .colab-df-convert:hover {\n",
              "      background-color: #434B5C;\n",
              "      box-shadow: 0px 1px 3px 1px rgba(0, 0, 0, 0.15);\n",
              "      filter: drop-shadow(0px 1px 2px rgba(0, 0, 0, 0.3));\n",
              "      fill: #FFFFFF;\n",
              "    }\n",
              "  </style>\n",
              "\n",
              "      <script>\n",
              "        const buttonEl =\n",
              "          document.querySelector('#df-b6b576bf-8e8b-4a95-a2c1-ea8b201f1fe6 button.colab-df-convert');\n",
              "        buttonEl.style.display =\n",
              "          google.colab.kernel.accessAllowed ? 'block' : 'none';\n",
              "\n",
              "        async function convertToInteractive(key) {\n",
              "          const element = document.querySelector('#df-b6b576bf-8e8b-4a95-a2c1-ea8b201f1fe6');\n",
              "          const dataTable =\n",
              "            await google.colab.kernel.invokeFunction('convertToInteractive',\n",
              "                                                     [key], {});\n",
              "          if (!dataTable) return;\n",
              "\n",
              "          const docLinkHtml = 'Like what you see? Visit the ' +\n",
              "            '<a target=\"_blank\" href=https://colab.research.google.com/notebooks/data_table.ipynb>data table notebook</a>'\n",
              "            + ' to learn more about interactive tables.';\n",
              "          element.innerHTML = '';\n",
              "          dataTable['output_type'] = 'display_data';\n",
              "          await google.colab.output.renderOutput(dataTable, element);\n",
              "          const docLink = document.createElement('div');\n",
              "          docLink.innerHTML = docLinkHtml;\n",
              "          element.appendChild(docLink);\n",
              "        }\n",
              "      </script>\n",
              "    </div>\n",
              "  </div>\n",
              "  "
            ]
          },
          "metadata": {},
          "execution_count": 23
        }
      ],
      "source": [
        "eigenvec_df = pandas.read_csv(pca_eigenvec, sep=\"\\s+\", header=None)\n",
        "eigenvec_df.head()\n",
        "#первые две колонки - названия образцов, а дальше координаты по каждой из осей"
      ]
    },
    {
      "cell_type": "code",
      "execution_count": 43,
      "metadata": {
        "id": "bGstnA1T9tot",
        "outputId": "35dac669-e530-4e27-feec-c3be51345cbc",
        "colab": {
          "base_uri": "https://localhost:8080/",
          "height": 236
        }
      },
      "outputs": [
        {
          "output_type": "execute_result",
          "data": {
            "text/plain": [
              "        pc1       pc2       pc3       pc4       pc5       pc6       pc7  \\\n",
              "0  0.023656  0.044685  0.024901 -0.012835 -0.009770  0.006716 -0.010370   \n",
              "1  0.029982  0.033608  0.032103 -0.014175 -0.004904  0.022838 -0.003047   \n",
              "2  0.025548  0.043980  0.023810 -0.012104 -0.004047  0.016872 -0.007012   \n",
              "3  0.022953  0.045839  0.024924 -0.015718 -0.011845  0.007434 -0.018396   \n",
              "4  0.024415  0.043405  0.018632 -0.004825 -0.007012  0.008693 -0.011580   \n",
              "\n",
              "        pc8       pc9      pc10  ...      pc14      pc15      pc16      pc17  \\\n",
              "0  0.006021 -0.073206  0.037070  ... -0.035015 -0.095092  0.014845 -0.033535   \n",
              "1  0.004947 -0.014171 -0.014982  ... -0.019349 -0.020024 -0.011725  0.016307   \n",
              "2  0.017078 -0.101528  0.038745  ... -0.024280 -0.135829  0.018732 -0.032434   \n",
              "3  0.024504 -0.090599  0.039748  ... -0.028485 -0.125899  0.049872 -0.016697   \n",
              "4  0.011086 -0.083010  0.035734  ... -0.024508 -0.139401  0.012883 -0.033515   \n",
              "\n",
              "       pc18      pc19      pc20                FID                IID  \\\n",
              "0 -0.013700  0.036779  0.001613  4461875510_R01C01  4461875510_R01C01   \n",
              "1  0.008480 -0.009798  0.005745  4461875510_R01C02  4461875510_R01C02   \n",
              "2 -0.039587  0.028321  0.034078  4461875510_R02C01  4461875510_R02C01   \n",
              "3 -0.007108  0.016528  0.005287  4461875513_R02C02  4461875513_R02C02   \n",
              "4 -0.008684  0.042671 -0.008286  4461875513_R01C02  4461875513_R01C02   \n",
              "\n",
              "   Population  \n",
              "0       Karel  \n",
              "1       Karel  \n",
              "2       Karel  \n",
              "3       Karel  \n",
              "4       Karel  \n",
              "\n",
              "[5 rows x 23 columns]"
            ],
            "text/html": [
              "\n",
              "  <div id=\"df-412a965c-baea-4cda-a522-240d61941cce\">\n",
              "    <div class=\"colab-df-container\">\n",
              "      <div>\n",
              "<style scoped>\n",
              "    .dataframe tbody tr th:only-of-type {\n",
              "        vertical-align: middle;\n",
              "    }\n",
              "\n",
              "    .dataframe tbody tr th {\n",
              "        vertical-align: top;\n",
              "    }\n",
              "\n",
              "    .dataframe thead th {\n",
              "        text-align: right;\n",
              "    }\n",
              "</style>\n",
              "<table border=\"1\" class=\"dataframe\">\n",
              "  <thead>\n",
              "    <tr style=\"text-align: right;\">\n",
              "      <th></th>\n",
              "      <th>pc1</th>\n",
              "      <th>pc2</th>\n",
              "      <th>pc3</th>\n",
              "      <th>pc4</th>\n",
              "      <th>pc5</th>\n",
              "      <th>pc6</th>\n",
              "      <th>pc7</th>\n",
              "      <th>pc8</th>\n",
              "      <th>pc9</th>\n",
              "      <th>pc10</th>\n",
              "      <th>...</th>\n",
              "      <th>pc14</th>\n",
              "      <th>pc15</th>\n",
              "      <th>pc16</th>\n",
              "      <th>pc17</th>\n",
              "      <th>pc18</th>\n",
              "      <th>pc19</th>\n",
              "      <th>pc20</th>\n",
              "      <th>FID</th>\n",
              "      <th>IID</th>\n",
              "      <th>Population</th>\n",
              "    </tr>\n",
              "  </thead>\n",
              "  <tbody>\n",
              "    <tr>\n",
              "      <th>0</th>\n",
              "      <td>0.023656</td>\n",
              "      <td>0.044685</td>\n",
              "      <td>0.024901</td>\n",
              "      <td>-0.012835</td>\n",
              "      <td>-0.009770</td>\n",
              "      <td>0.006716</td>\n",
              "      <td>-0.010370</td>\n",
              "      <td>0.006021</td>\n",
              "      <td>-0.073206</td>\n",
              "      <td>0.037070</td>\n",
              "      <td>...</td>\n",
              "      <td>-0.035015</td>\n",
              "      <td>-0.095092</td>\n",
              "      <td>0.014845</td>\n",
              "      <td>-0.033535</td>\n",
              "      <td>-0.013700</td>\n",
              "      <td>0.036779</td>\n",
              "      <td>0.001613</td>\n",
              "      <td>4461875510_R01C01</td>\n",
              "      <td>4461875510_R01C01</td>\n",
              "      <td>Karel</td>\n",
              "    </tr>\n",
              "    <tr>\n",
              "      <th>1</th>\n",
              "      <td>0.029982</td>\n",
              "      <td>0.033608</td>\n",
              "      <td>0.032103</td>\n",
              "      <td>-0.014175</td>\n",
              "      <td>-0.004904</td>\n",
              "      <td>0.022838</td>\n",
              "      <td>-0.003047</td>\n",
              "      <td>0.004947</td>\n",
              "      <td>-0.014171</td>\n",
              "      <td>-0.014982</td>\n",
              "      <td>...</td>\n",
              "      <td>-0.019349</td>\n",
              "      <td>-0.020024</td>\n",
              "      <td>-0.011725</td>\n",
              "      <td>0.016307</td>\n",
              "      <td>0.008480</td>\n",
              "      <td>-0.009798</td>\n",
              "      <td>0.005745</td>\n",
              "      <td>4461875510_R01C02</td>\n",
              "      <td>4461875510_R01C02</td>\n",
              "      <td>Karel</td>\n",
              "    </tr>\n",
              "    <tr>\n",
              "      <th>2</th>\n",
              "      <td>0.025548</td>\n",
              "      <td>0.043980</td>\n",
              "      <td>0.023810</td>\n",
              "      <td>-0.012104</td>\n",
              "      <td>-0.004047</td>\n",
              "      <td>0.016872</td>\n",
              "      <td>-0.007012</td>\n",
              "      <td>0.017078</td>\n",
              "      <td>-0.101528</td>\n",
              "      <td>0.038745</td>\n",
              "      <td>...</td>\n",
              "      <td>-0.024280</td>\n",
              "      <td>-0.135829</td>\n",
              "      <td>0.018732</td>\n",
              "      <td>-0.032434</td>\n",
              "      <td>-0.039587</td>\n",
              "      <td>0.028321</td>\n",
              "      <td>0.034078</td>\n",
              "      <td>4461875510_R02C01</td>\n",
              "      <td>4461875510_R02C01</td>\n",
              "      <td>Karel</td>\n",
              "    </tr>\n",
              "    <tr>\n",
              "      <th>3</th>\n",
              "      <td>0.022953</td>\n",
              "      <td>0.045839</td>\n",
              "      <td>0.024924</td>\n",
              "      <td>-0.015718</td>\n",
              "      <td>-0.011845</td>\n",
              "      <td>0.007434</td>\n",
              "      <td>-0.018396</td>\n",
              "      <td>0.024504</td>\n",
              "      <td>-0.090599</td>\n",
              "      <td>0.039748</td>\n",
              "      <td>...</td>\n",
              "      <td>-0.028485</td>\n",
              "      <td>-0.125899</td>\n",
              "      <td>0.049872</td>\n",
              "      <td>-0.016697</td>\n",
              "      <td>-0.007108</td>\n",
              "      <td>0.016528</td>\n",
              "      <td>0.005287</td>\n",
              "      <td>4461875513_R02C02</td>\n",
              "      <td>4461875513_R02C02</td>\n",
              "      <td>Karel</td>\n",
              "    </tr>\n",
              "    <tr>\n",
              "      <th>4</th>\n",
              "      <td>0.024415</td>\n",
              "      <td>0.043405</td>\n",
              "      <td>0.018632</td>\n",
              "      <td>-0.004825</td>\n",
              "      <td>-0.007012</td>\n",
              "      <td>0.008693</td>\n",
              "      <td>-0.011580</td>\n",
              "      <td>0.011086</td>\n",
              "      <td>-0.083010</td>\n",
              "      <td>0.035734</td>\n",
              "      <td>...</td>\n",
              "      <td>-0.024508</td>\n",
              "      <td>-0.139401</td>\n",
              "      <td>0.012883</td>\n",
              "      <td>-0.033515</td>\n",
              "      <td>-0.008684</td>\n",
              "      <td>0.042671</td>\n",
              "      <td>-0.008286</td>\n",
              "      <td>4461875513_R01C02</td>\n",
              "      <td>4461875513_R01C02</td>\n",
              "      <td>Karel</td>\n",
              "    </tr>\n",
              "  </tbody>\n",
              "</table>\n",
              "<p>5 rows × 23 columns</p>\n",
              "</div>\n",
              "      <button class=\"colab-df-convert\" onclick=\"convertToInteractive('df-412a965c-baea-4cda-a522-240d61941cce')\"\n",
              "              title=\"Convert this dataframe to an interactive table.\"\n",
              "              style=\"display:none;\">\n",
              "        \n",
              "  <svg xmlns=\"http://www.w3.org/2000/svg\" height=\"24px\"viewBox=\"0 0 24 24\"\n",
              "       width=\"24px\">\n",
              "    <path d=\"M0 0h24v24H0V0z\" fill=\"none\"/>\n",
              "    <path d=\"M18.56 5.44l.94 2.06.94-2.06 2.06-.94-2.06-.94-.94-2.06-.94 2.06-2.06.94zm-11 1L8.5 8.5l.94-2.06 2.06-.94-2.06-.94L8.5 2.5l-.94 2.06-2.06.94zm10 10l.94 2.06.94-2.06 2.06-.94-2.06-.94-.94-2.06-.94 2.06-2.06.94z\"/><path d=\"M17.41 7.96l-1.37-1.37c-.4-.4-.92-.59-1.43-.59-.52 0-1.04.2-1.43.59L10.3 9.45l-7.72 7.72c-.78.78-.78 2.05 0 2.83L4 21.41c.39.39.9.59 1.41.59.51 0 1.02-.2 1.41-.59l7.78-7.78 2.81-2.81c.8-.78.8-2.07 0-2.86zM5.41 20L4 18.59l7.72-7.72 1.47 1.35L5.41 20z\"/>\n",
              "  </svg>\n",
              "      </button>\n",
              "      \n",
              "  <style>\n",
              "    .colab-df-container {\n",
              "      display:flex;\n",
              "      flex-wrap:wrap;\n",
              "      gap: 12px;\n",
              "    }\n",
              "\n",
              "    .colab-df-convert {\n",
              "      background-color: #E8F0FE;\n",
              "      border: none;\n",
              "      border-radius: 50%;\n",
              "      cursor: pointer;\n",
              "      display: none;\n",
              "      fill: #1967D2;\n",
              "      height: 32px;\n",
              "      padding: 0 0 0 0;\n",
              "      width: 32px;\n",
              "    }\n",
              "\n",
              "    .colab-df-convert:hover {\n",
              "      background-color: #E2EBFA;\n",
              "      box-shadow: 0px 1px 2px rgba(60, 64, 67, 0.3), 0px 1px 3px 1px rgba(60, 64, 67, 0.15);\n",
              "      fill: #174EA6;\n",
              "    }\n",
              "\n",
              "    [theme=dark] .colab-df-convert {\n",
              "      background-color: #3B4455;\n",
              "      fill: #D2E3FC;\n",
              "    }\n",
              "\n",
              "    [theme=dark] .colab-df-convert:hover {\n",
              "      background-color: #434B5C;\n",
              "      box-shadow: 0px 1px 3px 1px rgba(0, 0, 0, 0.15);\n",
              "      filter: drop-shadow(0px 1px 2px rgba(0, 0, 0, 0.3));\n",
              "      fill: #FFFFFF;\n",
              "    }\n",
              "  </style>\n",
              "\n",
              "      <script>\n",
              "        const buttonEl =\n",
              "          document.querySelector('#df-412a965c-baea-4cda-a522-240d61941cce button.colab-df-convert');\n",
              "        buttonEl.style.display =\n",
              "          google.colab.kernel.accessAllowed ? 'block' : 'none';\n",
              "\n",
              "        async function convertToInteractive(key) {\n",
              "          const element = document.querySelector('#df-412a965c-baea-4cda-a522-240d61941cce');\n",
              "          const dataTable =\n",
              "            await google.colab.kernel.invokeFunction('convertToInteractive',\n",
              "                                                     [key], {});\n",
              "          if (!dataTable) return;\n",
              "\n",
              "          const docLinkHtml = 'Like what you see? Visit the ' +\n",
              "            '<a target=\"_blank\" href=https://colab.research.google.com/notebooks/data_table.ipynb>data table notebook</a>'\n",
              "            + ' to learn more about interactive tables.';\n",
              "          element.innerHTML = '';\n",
              "          dataTable['output_type'] = 'display_data';\n",
              "          await google.colab.output.renderOutput(dataTable, element);\n",
              "          const docLink = document.createElement('div');\n",
              "          docLink.innerHTML = docLinkHtml;\n",
              "          element.appendChild(docLink);\n",
              "        }\n",
              "      </script>\n",
              "    </div>\n",
              "  </div>\n",
              "  "
            ]
          },
          "metadata": {},
          "execution_count": 43
        }
      ],
      "source": [
        "merge_df = pandas.merge(eigenvec_df, pop_df, left_on=[0, 1], right_on=['FID', 'IID'])\n",
        "merge_df = merge_df.drop(columns=[0,1])\n",
        "merge_df.rename(columns={ merge_df.columns[0]: \"pc1\",\n",
        "                          merge_df.columns[1]: \"pc2\", \n",
        "                          merge_df.columns[2]: \"pc3\", \n",
        "                          merge_df.columns[3]: \"pc4\", \n",
        "                          merge_df.columns[4]: \"pc5\", \n",
        "                          merge_df.columns[5]: \"pc6\", \n",
        "                          merge_df.columns[6]: \"pc7\", \n",
        "                          merge_df.columns[7]: \"pc8\", \n",
        "                          merge_df.columns[8]: \"pc9\", \n",
        "                          merge_df.columns[9]: \"pc10\", \n",
        "                          merge_df.columns[10]: \"pc11\", \n",
        "                          merge_df.columns[11]: \"pc12\", \n",
        "                          merge_df.columns[12]: \"pc13\", \n",
        "                          merge_df.columns[13]: \"pc14\", \n",
        "                          merge_df.columns[14]: \"pc15\", \n",
        "                          merge_df.columns[15]: \"pc16\", \n",
        "                          merge_df.columns[16]: \"pc17\", \n",
        "                          merge_df.columns[17]: \"pc18\", \n",
        "                          merge_df.columns[18]: \"pc19\", \n",
        "                          merge_df.columns[19]: \"pc20\"}, inplace = True)\n",
        "merge_df.head()"
      ]
    },
    {
      "cell_type": "code",
      "execution_count": 25,
      "metadata": {
        "id": "r9L-5t1J9tot",
        "outputId": "e579b2a7-eec9-4908-c16a-a838fe1c239f",
        "colab": {
          "base_uri": "https://localhost:8080/",
          "height": 516
        }
      },
      "outputs": [
        {
          "output_type": "stream",
          "name": "stderr",
          "text": [
            "/usr/local/lib/python3.7/dist-packages/plotnine/utils.py:1246: FutureWarning: is_categorical is deprecated and will be removed in a future version.  Use is_categorical_dtype instead\n",
            "  if pdtypes.is_categorical(arr):\n"
          ]
        },
        {
          "output_type": "display_data",
          "data": {
            "text/plain": [
              "<Figure size 640x480 with 1 Axes>"
            ],
            "image/png": "[encoded data removed]"
          },
          "metadata": {}
        },
        {
          "output_type": "execute_result",
          "data": {
            "text/plain": [
              "<ggplot: (8726612422625)>"
            ]
          },
          "metadata": {},
          "execution_count": 25
        }
      ],
      "source": [
        "plotnine.ggplot(merge_df) + plotnine.aes(x=\"pc1\", y=\"pc2\", color='Population') + plotnine.geom_point() #меняя компоненты, получаем разный взгляд на срез популяций"
      ]
    },
    {
      "cell_type": "code",
      "source": [
        "plotnine.ggplot(merge_df) + plotnine.aes(x=\"pc18\", y=\"pc19\", color='Population') + plotnine.geom_point()"
      ],
      "metadata": {
        "colab": {
          "base_uri": "https://localhost:8080/",
          "height": 516
        },
        "id": "C5emKXsrEQI1",
        "outputId": "508c37e3-b6c8-4468-8edc-e213b1894bf4"
      },
      "execution_count": 44,
      "outputs": [
        {
          "output_type": "stream",
          "name": "stderr",
          "text": [
            "/usr/local/lib/python3.7/dist-packages/plotnine/utils.py:1246: FutureWarning: is_categorical is deprecated and will be removed in a future version.  Use is_categorical_dtype instead\n",
            "  if pdtypes.is_categorical(arr):\n"
          ]
        },
        {
          "output_type": "display_data",
          "data": {
            "text/plain": [
              "<Figure size 640x480 with 1 Axes>"
            ],
            "image/png": "[encoded data removed]"
          },
          "metadata": {}
        },
        {
          "output_type": "execute_result",
          "data": {
            "text/plain": [
              "<ggplot: (8726611938233)>"
            ]
          },
          "metadata": {},
          "execution_count": 44
        }
      ]
    }
  ],
  "metadata": {
    "kernelspec": {
      "display_name": "Python 3",
      "language": "python",
      "name": "python3"
    },
    "language_info": {
      "codemirror_mode": {
        "name": "ipython",
        "version": 3
      },
      "file_extension": ".py",
      "mimetype": "text/x-python",
      "name": "python",
      "nbconvert_exporter": "python",
      "pygments_lexer": "ipython3",
      "version": "3.5.3"
    },
    "colab": {
      "name": "PW№_PrincipalComponentAnalysis_GeneticMap.ipynb",
      "provenance": [],
      "collapsed_sections": []
    }
  },
  "nbformat": 4,
  "nbformat_minor": 0
}