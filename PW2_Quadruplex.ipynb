{
  "nbformat": 4,
  "nbformat_minor": 0,
  "metadata": {
    "colab": {
      "name": "PW2_Quadruplex.ipynb",
      "provenance": [],
      "collapsed_sections": []
    },
    "kernelspec": {
      "name": "python3",
      "display_name": "Python 3"
    },
    "language_info": {
      "name": "python"
    }
  },
  "cells": [
    {
      "cell_type": "markdown",
      "source": [
        "### Гуаниновые квадруплексы\n",
        "\n",
        "![загрузка.png](data:image/png;base64,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)"
      ],
      "metadata": {
        "id": "BkT25RNVLQQ3"
      }
    },
    {
      "cell_type": "code",
      "source": [
        "!wget http://hgdownload.cse.ucsc.edu/goldenPath/hg19/chromosomes/chr22.fa.gz\n",
        "#скачиваем архив с 22ой хромосомой hg19"
      ],
      "metadata": {
        "colab": {
          "base_uri": "https://localhost:8080/"
        },
        "id": "i6nbxGx2OvLk",
        "outputId": "e55f71d2-845d-456b-ed30-c0c67425e535"
      },
      "execution_count": null,
      "outputs": [
        {
          "output_type": "stream",
          "name": "stdout",
          "text": [
            "--2022-05-23 10:05:42--  http://hgdownload.cse.ucsc.edu/goldenPath/hg19/chromosomes/chr22.fa.gz\n",
            "Resolving hgdownload.cse.ucsc.edu (hgdownload.cse.ucsc.edu)... 128.114.119.163\n",
            "Connecting to hgdownload.cse.ucsc.edu (hgdownload.cse.ucsc.edu)|128.114.119.163|:80... connected.\n",
            "HTTP request sent, awaiting response... 200 OK\n",
            "Length: 11327826 (11M) [application/x-gzip]\n",
            "Saving to: ‘chr22.fa.gz’\n",
            "\n",
            "chr22.fa.gz         100%[===================>]  10.80M  7.22MB/s    in 1.5s    \n",
            "\n",
            "2022-05-23 10:05:44 (7.22 MB/s) - ‘chr22.fa.gz’ saved [11327826/11327826]\n",
            "\n"
          ]
        }
      ]
    },
    {
      "cell_type": "code",
      "source": [
        "!gunzip ./chr22.fa.gz #разархивируем её"
      ],
      "metadata": {
        "id": "eSc7vGE7O8tV"
      },
      "execution_count": null,
      "outputs": []
    },
    {
      "cell_type": "code",
      "source": [
        "!head chr22.fa"
      ],
      "metadata": {
        "colab": {
          "base_uri": "https://localhost:8080/"
        },
        "id": "4qR7wPtHK7T1",
        "outputId": "31cf148d-007c-46c1-9da8-02f90cfb4fb4"
      },
      "execution_count": null,
      "outputs": [
        {
          "output_type": "stream",
          "name": "stdout",
          "text": [
            ">chr22\n",
            "NNNNNNNNNNNNNNNNNNNNNNNNNNNNNNNNNNNNNNNNNNNNNNNNNN\n",
            "NNNNNNNNNNNNNNNNNNNNNNNNNNNNNNNNNNNNNNNNNNNNNNNNNN\n",
            "NNNNNNNNNNNNNNNNNNNNNNNNNNNNNNNNNNNNNNNNNNNNNNNNNN\n",
            "NNNNNNNNNNNNNNNNNNNNNNNNNNNNNNNNNNNNNNNNNNNNNNNNNN\n",
            "NNNNNNNNNNNNNNNNNNNNNNNNNNNNNNNNNNNNNNNNNNNNNNNNNN\n",
            "NNNNNNNNNNNNNNNNNNNNNNNNNNNNNNNNNNNNNNNNNNNNNNNNNN\n",
            "NNNNNNNNNNNNNNNNNNNNNNNNNNNNNNNNNNNNNNNNNNNNNNNNNN\n",
            "NNNNNNNNNNNNNNNNNNNNNNNNNNNNNNNNNNNNNNNNNNNNNNNNNN\n",
            "NNNNNNNNNNNNNNNNNNNNNNNNNNNNNNNNNNNNNNNNNNNNNNNNNN\n"
          ]
        }
      ]
    },
    {
      "cell_type": "code",
      "source": [
        "!pip install biopython #устанавливаем biopython"
      ],
      "metadata": {
        "colab": {
          "base_uri": "https://localhost:8080/"
        },
        "id": "p_KjiqKHPRC7",
        "outputId": "8da03cb0-22e5-4b66-d020-1dce031e6516"
      },
      "execution_count": null,
      "outputs": [
        {
          "output_type": "stream",
          "name": "stdout",
          "text": [
            "Requirement already satisfied: biopython in /usr/local/lib/python3.7/dist-packages (1.79)\n",
            "Requirement already satisfied: numpy in /usr/local/lib/python3.7/dist-packages (from biopython) (1.21.6)\n"
          ]
        }
      ]
    },
    {
      "cell_type": "markdown",
      "source": [
        "Для тренировки и проверки выражений можно использовать\n",
        "https://regex101.com/ \n",
        "\n",
        "Хороший пост на хабре про регулярные выражения \n",
        "https://habr.com/ru/post/349860/"
      ],
      "metadata": {
        "id": "xk7gT1EUPrty"
      }
    },
    {
      "cell_type": "code",
      "source": [
        "import re \n",
        "from Bio import SeqIO \n",
        "input_file=\"./chr22.fa\"\n",
        "fasta_sequence = SeqIO.parse(input_file,'fasta') #загружаем последовательность\n",
        "for record in SeqIO.parse(input_file, \"fasta\"): \n",
        " print(\"%s %i\" % (record.id, len(record))) \n",
        " name, sequence = record.id, str(record.seq) \n",
        "pattern=\"(?:G{3,}[ATGC]{1,7}){3,}G{3,}\" #патерн регулярного выражения для поиска квадруплекса (3 гуанина, потом из набора ATGC 1-7 нуклеотида; эта группа повторяется 3 раза и заканчивается 3 гуанинами)\n",
        "PQS=[[m.start(),m.end(),m.group(0)] for m in re.finditer(pattern,sequence)] #finditer возвращает итератор, у которого есть [начало нашего совпадения; конец; группы, которые захватывает (последовательность квадруплекса)]\n",
        "len(PQS) "
      ],
      "metadata": {
        "colab": {
          "base_uri": "https://localhost:8080/"
        },
        "id": "wUYhVlWfK79d",
        "outputId": "e7110a93-8a64-495d-dc52-2cf3e4d5a18c"
      },
      "execution_count": null,
      "outputs": [
        {
          "output_type": "stream",
          "name": "stdout",
          "text": [
            "chr22 51304566\n"
          ]
        },
        {
          "output_type": "execute_result",
          "data": {
            "text/plain": [
              "3542"
            ]
          },
          "metadata": {},
          "execution_count": 6
        }
      ]
    },
    {
      "cell_type": "code",
      "source": [
        "PQS[:10]"
      ],
      "metadata": {
        "colab": {
          "base_uri": "https://localhost:8080/"
        },
        "id": "pTtZTqizhpo9",
        "outputId": "d61e77fd-b888-4b0b-f010-c375100aa968"
      },
      "execution_count": null,
      "outputs": [
        {
          "output_type": "execute_result",
          "data": {
            "text/plain": [
              "[[16074765, 16074795, 'GGGGGAACTGGGCACTGTGGGACAGGAGGG'],\n",
              " [16075587, 16075611, 'GGGAACGGGGTGGGTGCCGAGGGG'],\n",
              " [16075634, 16075662, 'GGGGTCCGGCTGGGGGACATGGGATGGG'],\n",
              " [16085119, 16085137, 'GGGGGGGGTCGGGGGGGG'],\n",
              " [16156722, 16156763, 'GGGTTGGGGTGACCGAGGGACAGGTGGGGCGGGCACCTGGG'],\n",
              " [16157900, 16157922, 'GGGATGGCGGGCTTCGGGTGGG'],\n",
              " [16194833, 16194861, 'GGGGGAGGGTCAGGGGTTCCCCAGGGGG'],\n",
              " [16340589, 16340619, 'GGGATGCTGGGGACCCCTGGGGGATCGGGG'],\n",
              " [16404612, 16404644, 'GGGAGGGGGCCGGGAGCCAGGGGCAGCTCGGG'],\n",
              " [16466921, 16466947, 'GGGCAGGGTCCGGCTGGGCGTCGGGG']]"
            ]
          },
          "metadata": {},
          "execution_count": 7
        }
      ]
    },
    {
      "cell_type": "code",
      "source": [
        "with open('./GQregex.bed', 'a') as the_file:\n",
        "    for i in range(1,len(PQS)):\n",
        "      the_file.write(\"chr22\\t\"+str(PQS[i][0])+\"\\t\"+str(PQS[i][1])+\"\\n\")  "
      ],
      "metadata": {
        "id": "7uzMV6Y5QA4b"
      },
      "execution_count": null,
      "outputs": []
    },
    {
      "cell_type": "code",
      "source": [
        "!head ./GQregex.bed"
      ],
      "metadata": {
        "colab": {
          "base_uri": "https://localhost:8080/"
        },
        "id": "SYAUGgGMWa9z",
        "outputId": "6ccc8cfb-ee1e-4bd9-f034-86bbba18ceba"
      },
      "execution_count": null,
      "outputs": [
        {
          "output_type": "stream",
          "name": "stdout",
          "text": [
            "chr22\t16075587\t16075611\n",
            "chr22\t16075634\t16075662\n",
            "chr22\t16085119\t16085137\n",
            "chr22\t16156722\t16156763\n",
            "chr22\t16157900\t16157922\n",
            "chr22\t16194833\t16194861\n",
            "chr22\t16340589\t16340619\n",
            "chr22\t16404612\t16404644\n",
            "chr22\t16466921\t16466947\n",
            "chr22\t16869015\t16869041\n"
          ]
        }
      ]
    },
    {
      "cell_type": "markdown",
      "source": [
        "Теперь сравним наш паттерн с эксперементом\n",
        "\n",
        "Скачаем результаты Сhip seq"
      ],
      "metadata": {
        "id": "tmjrbnFyTrEm"
      }
    },
    {
      "cell_type": "code",
      "source": [
        "!wget ftp://ftp.ncbi.nlm.nih.gov/geo/series/GSE107nnn/GSE107690/suppl/GSE107690_K562_High_confidence_peaks.bed.gz"
      ],
      "metadata": {
        "id": "A29Shs8cMAsc",
        "colab": {
          "base_uri": "https://localhost:8080/"
        },
        "outputId": "3fff62a4-87e9-4084-b0d2-066a047de430"
      },
      "execution_count": null,
      "outputs": [
        {
          "output_type": "stream",
          "name": "stdout",
          "text": [
            "--2022-05-23 10:25:03--  ftp://ftp.ncbi.nlm.nih.gov/geo/series/GSE107nnn/GSE107690/suppl/GSE107690_K562_High_confidence_peaks.bed.gz\n",
            "           => ‘GSE107690_K562_High_confidence_peaks.bed.gz’\n",
            "Resolving ftp.ncbi.nlm.nih.gov (ftp.ncbi.nlm.nih.gov)... 130.14.250.12, 130.14.250.13, 2607:f220:41e:250::13, ...\n",
            "Connecting to ftp.ncbi.nlm.nih.gov (ftp.ncbi.nlm.nih.gov)|130.14.250.12|:21... connected.\n",
            "Logging in as anonymous ... Logged in!\n",
            "==> SYST ... done.    ==> PWD ... done.\n",
            "==> TYPE I ... done.  ==> CWD (1) /geo/series/GSE107nnn/GSE107690/suppl ... done.\n",
            "==> SIZE GSE107690_K562_High_confidence_peaks.bed.gz ... 75641\n",
            "==> PASV ... done.    ==> RETR GSE107690_K562_High_confidence_peaks.bed.gz ... done.\n",
            "Length: 75641 (74K) (unauthoritative)\n",
            "\n",
            "GSE107690_K562_High 100%[===================>]  73.87K   182KB/s    in 0.4s    \n",
            "\n",
            "2022-05-23 10:25:07 (182 KB/s) - ‘GSE107690_K562_High_confidence_peaks.bed.gz’ saved [75641]\n",
            "\n"
          ]
        }
      ]
    },
    {
      "cell_type": "code",
      "source": [
        "!gunzip ./GSE107690_K562_High_confidence_peaks.bed.gz"
      ],
      "metadata": {
        "id": "EMjoNxt1OFdb"
      },
      "execution_count": null,
      "outputs": []
    },
    {
      "cell_type": "code",
      "source": [
        "!head GSE107690_K562_High_confidence_peaks.bed"
      ],
      "metadata": {
        "colab": {
          "base_uri": "https://localhost:8080/"
        },
        "id": "0jZhK4phOWvY",
        "outputId": "f642e265-4b42-4fbb-ae3a-95eaaa07be21"
      },
      "execution_count": null,
      "outputs": [
        {
          "output_type": "stream",
          "name": "stdout",
          "text": [
            "chr1\t713977\t714310\n",
            "chr1\t762850\t762982\n",
            "chr1\t840076\t840205\n",
            "chr1\t894635\t894796\n",
            "chr1\t935414\t935699\n",
            "chr1\t936169\t936307\n",
            "chr1\t937240\t937384\n",
            "chr1\t940446\t940664\n",
            "chr1\t954724\t955325\n",
            "chr1\t968430\t968669\n"
          ]
        }
      ]
    },
    {
      "cell_type": "code",
      "source": [
        "import pandas as pd #отбираем результаты, где только наша 22ая хромосома\n",
        "chip=pd.read_csv(\"./GSE107690_K562_High_confidence_peaks.bed\", sep=\"\\t\",names=['chr', 'start', 'end'])\n",
        "chip.head()\n",
        "chip[chip.chr==\"chr22\"].shape\n",
        "\n",
        "#результат - число строк (квадруплекс) на число столбцов"
      ],
      "metadata": {
        "colab": {
          "base_uri": "https://localhost:8080/"
        },
        "id": "6I1KnE1dL8W3",
        "outputId": "64f57ec9-cfe1-47b9-b0a6-dfd02ae3bb96"
      },
      "execution_count": null,
      "outputs": [
        {
          "output_type": "execute_result",
          "data": {
            "text/plain": [
              "(251, 3)"
            ]
          },
          "metadata": {},
          "execution_count": 18
        }
      ]
    },
    {
      "cell_type": "markdown",
      "source": [
        "По паттерну больше, чем по ChIP-seq. Почему?<br>\n",
        "1. Выпетливания\n",
        "2. Длинные центральные петли\n",
        "3. Квадруплексы из двух тетрад\n",
        "4. Нуклеосомы и хроматин\n"
      ],
      "metadata": {
        "id": "Og9HBDXbeC-T"
      }
    }
  ]
}