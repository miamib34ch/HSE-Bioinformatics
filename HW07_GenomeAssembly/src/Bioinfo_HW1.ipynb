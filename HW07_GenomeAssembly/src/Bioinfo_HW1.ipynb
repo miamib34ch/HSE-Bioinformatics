{
  "nbformat": 4,
  "nbformat_minor": 0,
  "metadata": {
    "colab": {
      "provenance": [],
      "collapsed_sections": []
    },
    "kernelspec": {
      "name": "python3",
      "display_name": "Python 3"
    },
    "language_info": {
      "name": "python"
    }
  },
  "cells": [
    {
      "cell_type": "code",
      "source": [
        "!pip install biopython"
      ],
      "metadata": {
        "colab": {
          "base_uri": "https://localhost:8080/"
        },
        "id": "AZ2JuouulnjZ",
        "outputId": "3f4a49da-bfd7-469f-895b-4cb641c91055"
      },
      "execution_count": 92,
      "outputs": [
        {
          "output_type": "stream",
          "name": "stdout",
          "text": [
            "Looking in indexes: https://pypi.org/simple, https://us-python.pkg.dev/colab-wheels/public/simple/\n",
            "Requirement already satisfied: biopython in /usr/local/lib/python3.7/dist-packages (1.79)\n",
            "Requirement already satisfied: numpy in /usr/local/lib/python3.7/dist-packages (from biopython) (1.21.6)\n"
          ]
        }
      ]
    },
    {
      "cell_type": "code",
      "source": [
        "from Bio import SeqIO\n",
        "import re"
      ],
      "metadata": {
        "id": "9kP9_uxZUKb1"
      },
      "execution_count": 93,
      "outputs": []
    },
    {
      "cell_type": "code",
      "source": [
        "#Сортируем длины от большего к меньшему, и суммируем их, пока сумма не будет покрывать 50% длины сборки\n",
        "#Длина последнего добавленного контига и есть N50\n",
        "def N50(lengths, sum_length):\n",
        "  current_sum_length = 0\n",
        "  for length in sorted(lengths, reverse=True):\n",
        "    current_sum_length += length\n",
        "    if current_sum_length / sum_length >= 0.5:\n",
        "      N50 = length\n",
        "      break\n",
        "  return N50"
      ],
      "metadata": {
        "id": "Y_L6mv1LUGkZ"
      },
      "execution_count": 94,
      "outputs": []
    },
    {
      "cell_type": "code",
      "source": [
        "def analise(filename, text):\n",
        "  #С помощью SeqIO.parse() получаем итератор из всех последовательностей файла, затем с помощью map() считаем длину каждой и получаем список\n",
        "  lengths = list(map(len, SeqIO.parse(open(filename, 'r'), 'fasta')))\n",
        "  #Общая длина последовательностей\n",
        "  sum_length = sum(lengths)\n",
        "\n",
        "  print(f'Анализ полученных {text}:')\n",
        "  print(f'·Количество: {len(lengths)}')\n",
        "  print(f'·Общая длина: {sum_length}')\n",
        "  print(f'·Максимальная длина: {max(lengths)}')\n",
        "  print(f'·N50: {N50(lengths,sum_length)}')\n",
        "  return"
      ],
      "metadata": {
        "id": "8W3oienWkXTJ"
      },
      "execution_count": 95,
      "outputs": []
    },
    {
      "cell_type": "code",
      "source": [
        "analise('contigs.fa', 'контигов')"
      ],
      "metadata": {
        "colab": {
          "base_uri": "https://localhost:8080/"
        },
        "id": "-Ur_v_rfk2fh",
        "outputId": "6ffa833c-6c1b-474d-87c0-d2452110e3ea"
      },
      "execution_count": 96,
      "outputs": [
        {
          "output_type": "stream",
          "name": "stdout",
          "text": [
            "Анализ полученных контигов:\n",
            "·Количество: 599\n",
            "·Общая длина: 3924254\n",
            "·Максимальная длина: 179307\n",
            "·N50: 53980\n"
          ]
        }
      ]
    },
    {
      "cell_type": "code",
      "source": [
        "analise('scaffolds.fa', 'скаффолдов')"
      ],
      "metadata": {
        "colab": {
          "base_uri": "https://localhost:8080/"
        },
        "id": "YZxC-04FUaHY",
        "outputId": "033404f9-1bd8-41b2-d7fb-717984a8f98c"
      },
      "execution_count": 97,
      "outputs": [
        {
          "output_type": "stream",
          "name": "stdout",
          "text": [
            "Анализ полученных скаффолдов:\n",
            "·Количество: 69\n",
            "·Общая длина: 3873895\n",
            "·Максимальная длина: 3834350\n",
            "·N50: 3834350\n"
          ]
        }
      ]
    },
    {
      "cell_type": "code",
      "source": [
        "def gap(filename,text):\n",
        "  print(f'{text} gapClosed:')\n",
        "  #Получаем максимально длинный скаффолд\n",
        "  scaffold = max(SeqIO.parse(open(filename, 'r'), 'fasta'),key=lambda s:len(s))\n",
        "  with open('longest_'+filename,'w') as stream:\n",
        "    print(str(scaffold.seq),file = stream)    \n",
        "  print(f'·Количество гэпов: {len(re.findall(\"N{1,}\", str(scaffold.seq)))}')\n",
        "  print(f'·Общая длина гэпов: {str(scaffold.seq).count(\"N\")}')"
      ],
      "metadata": {
        "id": "pXE6NjL6atZf"
      },
      "execution_count": 98,
      "outputs": []
    },
    {
      "cell_type": "code",
      "source": [
        "gap('scaffolds.fa','До')"
      ],
      "metadata": {
        "colab": {
          "base_uri": "https://localhost:8080/"
        },
        "id": "SH3f30NklJe9",
        "outputId": "52057bf4-9152-4411-edfd-ec943c86e905"
      },
      "execution_count": 99,
      "outputs": [
        {
          "output_type": "stream",
          "name": "stdout",
          "text": [
            "До gapClosed:\n",
            "·Количество гэпов: 59\n",
            "·Общая длина гэпов: 6621\n"
          ]
        }
      ]
    },
    {
      "cell_type": "code",
      "source": [
        "gap('Poil_gapClosed.fa','После')"
      ],
      "metadata": {
        "colab": {
          "base_uri": "https://localhost:8080/"
        },
        "id": "b-0P4Q_zlMT6",
        "outputId": "70ccf1a1-86a1-46a8-cc15-c24172121008"
      },
      "execution_count": 100,
      "outputs": [
        {
          "output_type": "stream",
          "name": "stdout",
          "text": [
            "После gapClosed:\n",
            "·Количество гэпов: 8\n",
            "·Общая длина гэпов: 2358\n"
          ]
        }
      ]
    }
  ]
}