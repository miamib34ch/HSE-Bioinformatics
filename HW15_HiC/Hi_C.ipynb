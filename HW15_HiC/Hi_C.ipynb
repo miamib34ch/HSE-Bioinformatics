{
  "nbformat": 4,
  "nbformat_minor": 0,
  "metadata": {
    "colab": {
      "provenance": []
    },
    "kernelspec": {
      "name": "python3",
      "display_name": "Python 3"
    },
    "language_info": {
      "name": "python"
    }
  },
  "cells": [
    {
      "cell_type": "markdown",
      "source": [
        "**Инструменты**\n",
        "\n",
        "https://pairtools.readthedocs.io/en/latest/ \n",
        "\n",
        "https://cooler.readthedocs.io/en/latest/index.html\n",
        "\n",
        "**Данные**\n",
        "\n",
        "https://drive.google.com/drive/folders/142vwyCNlcN3tfBeelfohtKnqmjzzVjcD?usp=sharing"
      ],
      "metadata": {
        "id": "bT9Zmb4IWpt-"
      }
    },
    {
      "cell_type": "markdown",
      "source": [
        "Задание предполагает освоение метода оценки сходства данных Hi-C на примере карт взаимодействий двух линий дрозофилы.\n",
        "\n",
        "Целью данной работы является:\n",
        "1. Построение графика скейлинга для одного из образцов в логарифмических координатах (сделать корректные подписи, включая единицы измерений).\n",
        "2. Построение дендрограммы реплик  Hi-C для клеточных линий дрозофилы bg3 (нервная ткань) и kc167 (эмбриональная линия) на основе коэффициента SCC.\n",
        "3. Интерпретация графиков, а также комментарии к коду.\n",
        "\n"
      ],
      "metadata": {
        "id": "tU9JElHfBNoz"
      }
    },
    {
      "cell_type": "markdown",
      "source": [
        "# Установки"
      ],
      "metadata": {
        "id": "SlMe0MqKJ6GP"
      }
    },
    {
      "cell_type": "code",
      "source": [
        "!pip install -q condacolab\n",
        "import condacolab\n",
        "condacolab.install()"
      ],
      "metadata": {
        "colab": {
          "base_uri": "https://localhost:8080/"
        },
        "id": "NUHB0MTIJ65A",
        "outputId": "894ad6e7-3118-4781-c3e1-5f508c494f50"
      },
      "execution_count": 1,
      "outputs": [
        {
          "output_type": "stream",
          "name": "stdout",
          "text": [
            "⏬ Downloading https://github.com/conda-forge/miniforge/releases/download/23.1.0-1/Mambaforge-23.1.0-1-Linux-x86_64.sh...\n",
            "📦 Installing...\n",
            "📌 Adjusting configuration...\n",
            "🩹 Patching environment...\n",
            "⏲ Done in 0:00:27\n",
            "🔁 Restarting kernel...\n"
          ]
        }
      ]
    },
    {
      "cell_type": "code",
      "source": [
        "%%bash \n",
        "pip install cooler\n",
        "pip install hicrep"
      ],
      "metadata": {
        "id": "D6J4SbLzJ8Ch",
        "colab": {
          "base_uri": "https://localhost:8080/"
        },
        "outputId": "ff993797-00dd-4c60-de43-37efb7451390"
      },
      "execution_count": 1,
      "outputs": [
        {
          "output_type": "stream",
          "name": "stdout",
          "text": [
            "Looking in indexes: https://pypi.org/simple, https://us-python.pkg.dev/colab-wheels/public/simple/\n",
            "Collecting cooler\n",
            "  Downloading cooler-0.9.1-py2.py3-none-any.whl (103 kB)\n",
            "     ━━━━━━━━━━━━━━━━━━━━━━━━━━━━━━━━━━━━━━━ 103.9/103.9 kB 2.0 MB/s eta 0:00:00\n",
            "Collecting cytoolz\n",
            "  Downloading cytoolz-0.12.1-cp310-cp310-manylinux_2_17_x86_64.manylinux2014_x86_64.whl (1.8 MB)\n",
            "     ━━━━━━━━━━━━━━━━━━━━━━━━━━━━━━━━━━━━━━━━ 1.8/1.8 MB 9.8 MB/s eta 0:00:00\n",
            "Collecting scipy>=0.16\n",
            "  Downloading scipy-1.10.1-cp310-cp310-manylinux_2_17_x86_64.manylinux2014_x86_64.whl (34.4 MB)\n",
            "     ━━━━━━━━━━━━━━━━━━━━━━━━━━━━━━━━━━━━━━━━ 34.4/34.4 MB 31.7 MB/s eta 0:00:00\n",
            "Collecting pandas>1.0\n",
            "  Downloading pandas-2.0.1-cp310-cp310-manylinux_2_17_x86_64.manylinux2014_x86_64.whl (12.3 MB)\n",
            "     ━━━━━━━━━━━━━━━━━━━━━━━━━━━━━━━━━━━━━━━━ 12.3/12.3 MB 48.7 MB/s eta 0:00:00\n",
            "Collecting multiprocess\n",
            "  Downloading multiprocess-0.70.14-py310-none-any.whl (134 kB)\n",
            "     ━━━━━━━━━━━━━━━━━━━━━━━━━━━━━━━━━━━━━━ 134.3/134.3 kB 12.1 MB/s eta 0:00:00\n",
            "Collecting asciitree\n",
            "  Downloading asciitree-0.3.3.tar.gz (4.0 kB)\n",
            "  Preparing metadata (setup.py): started\n",
            "  Preparing metadata (setup.py): finished with status 'done'\n",
            "Collecting pyfaidx\n",
            "  Downloading pyfaidx-0.7.2.1-py3-none-any.whl (28 kB)\n",
            "Collecting pyyaml\n",
            "  Downloading PyYAML-6.0-cp310-cp310-manylinux_2_5_x86_64.manylinux1_x86_64.manylinux_2_12_x86_64.manylinux2010_x86_64.whl (682 kB)\n",
            "     ━━━━━━━━━━━━━━━━━━━━━━━━━━━━━━━━━━━━━━ 682.2/682.2 kB 42.2 MB/s eta 0:00:00\n",
            "Collecting h5py>=2.5\n",
            "  Downloading h5py-3.8.0-cp310-cp310-manylinux_2_17_x86_64.manylinux2014_x86_64.whl (4.6 MB)\n",
            "     ━━━━━━━━━━━━━━━━━━━━━━━━━━━━━━━━━━━━━━━━ 4.6/4.6 MB 67.0 MB/s eta 0:00:00\n",
            "Collecting click>=7\n",
            "  Downloading click-8.1.3-py3-none-any.whl (96 kB)\n",
            "     ━━━━━━━━━━━━━━━━━━━━━━━━━━━━━━━━━━━━━━━━ 96.6/96.6 kB 9.5 MB/s eta 0:00:00\n",
            "Collecting simplejson\n",
            "  Downloading simplejson-3.19.1-cp310-cp310-manylinux_2_5_x86_64.manylinux1_x86_64.manylinux_2_17_x86_64.manylinux2014_x86_64.whl (137 kB)\n",
            "     ━━━━━━━━━━━━━━━━━━━━━━━━━━━━━━━━━━━━━━ 137.9/137.9 kB 17.4 MB/s eta 0:00:00\n",
            "Collecting numpy>=1.9\n",
            "  Downloading numpy-1.24.3-cp310-cp310-manylinux_2_17_x86_64.manylinux2014_x86_64.whl (17.3 MB)\n",
            "     ━━━━━━━━━━━━━━━━━━━━━━━━━━━━━━━━━━━━━━━━ 17.3/17.3 MB 77.6 MB/s eta 0:00:00\n",
            "Collecting python-dateutil>=2.8.2\n",
            "  Downloading python_dateutil-2.8.2-py2.py3-none-any.whl (247 kB)\n",
            "     ━━━━━━━━━━━━━━━━━━━━━━━━━━━━━━━━━━━━━━ 247.7/247.7 kB 29.2 MB/s eta 0:00:00\n",
            "Collecting pytz>=2020.1\n",
            "  Downloading pytz-2023.3-py2.py3-none-any.whl (502 kB)\n",
            "     ━━━━━━━━━━━━━━━━━━━━━━━━━━━━━━━━━━━━━━ 502.3/502.3 kB 41.5 MB/s eta 0:00:00\n",
            "Collecting tzdata>=2022.1\n",
            "  Downloading tzdata-2023.3-py2.py3-none-any.whl (341 kB)\n",
            "     ━━━━━━━━━━━━━━━━━━━━━━━━━━━━━━━━━━━━━━ 341.8/341.8 kB 35.2 MB/s eta 0:00:00\n",
            "Requirement already satisfied: toolz>=0.8.0 in /usr/local/lib/python3.10/site-packages (from cytoolz->cooler) (0.12.0)\n",
            "Collecting dill>=0.3.6\n",
            "  Downloading dill-0.3.6-py3-none-any.whl (110 kB)\n",
            "     ━━━━━━━━━━━━━━━━━━━━━━━━━━━━━━━━━━━━━━ 110.5/110.5 kB 13.8 MB/s eta 0:00:00\n",
            "Requirement already satisfied: setuptools in /usr/local/lib/python3.10/site-packages (from pyfaidx->cooler) (65.6.3)\n",
            "Collecting six\n",
            "  Downloading six-1.16.0-py2.py3-none-any.whl (11 kB)\n",
            "Building wheels for collected packages: asciitree\n",
            "  Building wheel for asciitree (setup.py): started\n",
            "  Building wheel for asciitree (setup.py): finished with status 'done'\n",
            "  Created wheel for asciitree: filename=asciitree-0.3.3-py3-none-any.whl size=5050 sha256=c40b284d6c46d86a104ac3313c615e5185e1e8a2c8f42b1281d2b1a5be78ea42\n",
            "  Stored in directory: /root/.cache/pip/wheels/7f/4e/be/1171b40f43b918087657ec57cf3b81fa1a2e027d8755baa184\n",
            "Successfully built asciitree\n",
            "Installing collected packages: pytz, asciitree, tzdata, six, simplejson, pyyaml, numpy, dill, cytoolz, click, scipy, python-dateutil, pyfaidx, multiprocess, h5py, pandas, cooler\n",
            "Successfully installed asciitree-0.3.3 click-8.1.3 cooler-0.9.1 cytoolz-0.12.1 dill-0.3.6 h5py-3.8.0 multiprocess-0.70.14 numpy-1.24.3 pandas-2.0.1 pyfaidx-0.7.2.1 python-dateutil-2.8.2 pytz-2023.3 pyyaml-6.0 scipy-1.10.1 simplejson-3.19.1 six-1.16.0 tzdata-2023.3\n",
            "Looking in indexes: https://pypi.org/simple, https://us-python.pkg.dev/colab-wheels/public/simple/\n",
            "Collecting hicrep\n",
            "  Downloading hicrep-0.2.6.tar.gz (22 kB)\n",
            "  Preparing metadata (setup.py): started\n",
            "  Preparing metadata (setup.py): finished with status 'done'\n",
            "Collecting Deprecated\n",
            "  Downloading Deprecated-1.2.13-py2.py3-none-any.whl (9.6 kB)\n",
            "Requirement already satisfied: numpy>=1.17.0 in /usr/local/lib/python3.10/site-packages (from hicrep) (1.24.3)\n",
            "Requirement already satisfied: scipy in /usr/local/lib/python3.10/site-packages (from hicrep) (1.10.1)\n",
            "Requirement already satisfied: cooler in /usr/local/lib/python3.10/site-packages (from hicrep) (0.9.1)\n",
            "Requirement already satisfied: pandas in /usr/local/lib/python3.10/site-packages (from hicrep) (2.0.1)\n",
            "Requirement already satisfied: h5py in /usr/local/lib/python3.10/site-packages (from hicrep) (3.8.0)\n",
            "Requirement already satisfied: pyyaml in /usr/local/lib/python3.10/site-packages (from cooler->hicrep) (6.0)\n",
            "Requirement already satisfied: cytoolz in /usr/local/lib/python3.10/site-packages (from cooler->hicrep) (0.12.1)\n",
            "Requirement already satisfied: asciitree in /usr/local/lib/python3.10/site-packages (from cooler->hicrep) (0.3.3)\n",
            "Requirement already satisfied: multiprocess in /usr/local/lib/python3.10/site-packages (from cooler->hicrep) (0.70.14)\n",
            "Requirement already satisfied: pyfaidx in /usr/local/lib/python3.10/site-packages (from cooler->hicrep) (0.7.2.1)\n",
            "Requirement already satisfied: click>=7 in /usr/local/lib/python3.10/site-packages (from cooler->hicrep) (8.1.3)\n",
            "Requirement already satisfied: simplejson in /usr/local/lib/python3.10/site-packages (from cooler->hicrep) (3.19.1)\n",
            "Requirement already satisfied: pytz>=2020.1 in /usr/local/lib/python3.10/site-packages (from pandas->hicrep) (2023.3)\n",
            "Requirement already satisfied: tzdata>=2022.1 in /usr/local/lib/python3.10/site-packages (from pandas->hicrep) (2023.3)\n",
            "Requirement already satisfied: python-dateutil>=2.8.2 in /usr/local/lib/python3.10/site-packages (from pandas->hicrep) (2.8.2)\n",
            "Collecting wrapt<2,>=1.10\n",
            "  Downloading wrapt-1.15.0-cp310-cp310-manylinux_2_5_x86_64.manylinux1_x86_64.manylinux_2_17_x86_64.manylinux2014_x86_64.whl (78 kB)\n",
            "     ━━━━━━━━━━━━━━━━━━━━━━━━━━━━━━━━━━━━━━━━ 78.4/78.4 kB 3.4 MB/s eta 0:00:00\n",
            "Requirement already satisfied: six>=1.5 in /usr/local/lib/python3.10/site-packages (from python-dateutil>=2.8.2->pandas->hicrep) (1.16.0)\n",
            "Requirement already satisfied: toolz>=0.8.0 in /usr/local/lib/python3.10/site-packages (from cytoolz->cooler->hicrep) (0.12.0)\n",
            "Requirement already satisfied: dill>=0.3.6 in /usr/local/lib/python3.10/site-packages (from multiprocess->cooler->hicrep) (0.3.6)\n",
            "Requirement already satisfied: setuptools in /usr/local/lib/python3.10/site-packages (from pyfaidx->cooler->hicrep) (65.6.3)\n",
            "Building wheels for collected packages: hicrep\n",
            "  Building wheel for hicrep (setup.py): started\n",
            "  Building wheel for hicrep (setup.py): finished with status 'done'\n",
            "  Created wheel for hicrep: filename=hicrep-0.2.6-py3-none-any.whl size=34770 sha256=5af585ede243ed70e28da5fda433ed4d8d9993e97f2502ed6d229378b19bc28f\n",
            "  Stored in directory: /root/.cache/pip/wheels/21/75/06/6354db4851e5edd4899df43eded6240031885d7df3d5184d7a\n",
            "Successfully built hicrep\n",
            "Installing collected packages: wrapt, Deprecated, hicrep\n",
            "Successfully installed Deprecated-1.2.13 hicrep-0.2.6 wrapt-1.15.0\n"
          ]
        },
        {
          "output_type": "stream",
          "name": "stderr",
          "text": [
            "WARNING: Running pip as the 'root' user can result in broken permissions and conflicting behaviour with the system package manager. It is recommended to use a virtual environment instead: https://pip.pypa.io/warnings/venv\n",
            "WARNING: Running pip as the 'root' user can result in broken permissions and conflicting behaviour with the system package manager. It is recommended to use a virtual environment instead: https://pip.pypa.io/warnings/venv\n"
          ]
        }
      ]
    },
    {
      "cell_type": "code",
      "source": [
        "import matplotlib.pyplot as plt"
      ],
      "metadata": {
        "id": "iG0TD4Bn1fob"
      },
      "execution_count": 2,
      "outputs": []
    },
    {
      "cell_type": "code",
      "source": [
        "import cooler"
      ],
      "metadata": {
        "id": "cuRWerkAKrYK"
      },
      "execution_count": 3,
      "outputs": []
    },
    {
      "cell_type": "code",
      "source": [
        "import numpy as np"
      ],
      "metadata": {
        "id": "IRWfAgdaNqY4"
      },
      "execution_count": 4,
      "outputs": []
    },
    {
      "cell_type": "code",
      "source": [
        "from google.colab import drive\n",
        "drive.mount('/content/drive')"
      ],
      "metadata": {
        "id": "yAYb9Fjtd2jM",
        "colab": {
          "base_uri": "https://localhost:8080/"
        },
        "outputId": "474f3fae-2efc-434b-8fc2-d79fdda80165"
      },
      "execution_count": 5,
      "outputs": [
        {
          "output_type": "stream",
          "name": "stdout",
          "text": [
            "Mounted at /content/drive\n"
          ]
        }
      ]
    },
    {
      "cell_type": "code",
      "source": [
        "import seaborn as sns\n",
        "import pandas as pd\n",
        "import hicrep\n",
        "from hicrep import hicrepSCC\n",
        "from hicrep.utils import readMcool"
      ],
      "metadata": {
        "id": "5e7bHb3Y0l68"
      },
      "execution_count": 6,
      "outputs": []
    },
    {
      "cell_type": "code",
      "source": [
        "from scipy.cluster import hierarchy"
      ],
      "metadata": {
        "id": "1vB5SrQcY8BE"
      },
      "execution_count": 7,
      "outputs": []
    },
    {
      "cell_type": "markdown",
      "source": [
        "# Главная часть"
      ],
      "metadata": {
        "id": "NhjObXvUJ-3y"
      }
    },
    {
      "cell_type": "markdown",
      "source": [
        "## Построение графика скейлинга для одного из образцов"
      ],
      "metadata": {
        "id": "jn1nE2ZXBFCa"
      }
    },
    {
      "cell_type": "code",
      "source": [
        "mcool ='drive/MyDrive/HSE_HiC_minor/HiC1.dm3.mapq_30.1000.mcool'"
      ],
      "metadata": {
        "id": "45gps2TTAtTg"
      },
      "execution_count": 8,
      "outputs": []
    },
    {
      "cell_type": "code",
      "source": [
        "resolution = 20000\n",
        "clr = cooler.Cooler(f'{mcool}::resolutions/{resolution}')"
      ],
      "metadata": {
        "id": "Sj3zYDXTiuxe"
      },
      "execution_count": 9,
      "outputs": []
    },
    {
      "cell_type": "code",
      "source": [
        "clr.chromnames"
      ],
      "metadata": {
        "colab": {
          "base_uri": "https://localhost:8080/"
        },
        "id": "6terVf24LOV5",
        "outputId": "2c5ac9b2-fe2f-4fdf-dc8c-ce72592e2039"
      },
      "execution_count": 10,
      "outputs": [
        {
          "output_type": "execute_result",
          "data": {
            "text/plain": [
              "['chr2L', 'chr2R', 'chr3L', 'chr3R', 'chr4', 'chrX', 'chrM']"
            ]
          },
          "metadata": {},
          "execution_count": 10
        }
      ]
    },
    {
      "cell_type": "code",
      "source": [
        "m=clr.matrix(balance=True).fetch('chrX')\n",
        "m"
      ],
      "metadata": {
        "id": "0bv3-eusKlKN",
        "colab": {
          "base_uri": "https://localhost:8080/"
        },
        "outputId": "87ce939c-c02d-4e13-9e88-1db8f04426e0"
      },
      "execution_count": 11,
      "outputs": [
        {
          "output_type": "execute_result",
          "data": {
            "text/plain": [
              "array([[           nan,            nan,            nan, ...,\n",
              "                   nan,            nan,            nan],\n",
              "       [           nan, 8.80222344e-01, 1.39400366e-01, ...,\n",
              "        6.26397784e-04, 0.00000000e+00,            nan],\n",
              "       [           nan, 1.39400366e-01, 1.05905908e+00, ...,\n",
              "        0.00000000e+00, 0.00000000e+00,            nan],\n",
              "       ...,\n",
              "       [           nan, 6.26397784e-04, 0.00000000e+00, ...,\n",
              "        1.16384403e+00, 1.34611360e-01,            nan],\n",
              "       [           nan, 0.00000000e+00, 0.00000000e+00, ...,\n",
              "        1.34611360e-01, 2.77069541e+00,            nan],\n",
              "       [           nan,            nan,            nan, ...,\n",
              "                   nan,            nan,            nan]])"
            ]
          },
          "metadata": {},
          "execution_count": 11
        }
      ]
    },
    {
      "cell_type": "code",
      "source": [
        "pix=clr.pixels(join=True)[:]\n",
        "pix"
      ],
      "metadata": {
        "id": "RglNL-7WMjSb",
        "colab": {
          "base_uri": "https://localhost:8080/",
          "height": 424
        },
        "outputId": "cc872976-8560-481f-c69d-027cc9cd6186"
      },
      "execution_count": 12,
      "outputs": [
        {
          "output_type": "execute_result",
          "data": {
            "text/plain": [
              "        chrom1    start1      end1 chrom2    start2      end2  count\n",
              "0        chr2L         0     20000  chr2L         0     20000   4075\n",
              "1        chr2L         0     20000  chr2L     20000     40000    481\n",
              "2        chr2L         0     20000  chr2L     40000     60000    182\n",
              "3        chr2L         0     20000  chr2L     60000     80000    183\n",
              "4        chr2L         0     20000  chr2L     80000    100000     84\n",
              "...        ...       ...       ...    ...       ...       ...    ...\n",
              "7122781   chrX  22380000  22400000   chrX  22420000  22422827     14\n",
              "7122782   chrX  22400000  22420000   chrX  22400000  22420000   1694\n",
              "7122783   chrX  22400000  22420000   chrX  22420000  22422827     27\n",
              "7122784   chrX  22420000  22422827   chrX  22420000  22422827    244\n",
              "7122785   chrM         0     19517   chrM         0     19517     99\n",
              "\n",
              "[7122786 rows x 7 columns]"
            ],
            "text/html": [
              "\n",
              "  <div id=\"df-1f3535ff-6511-44a8-ae90-71f121919446\">\n",
              "    <div class=\"colab-df-container\">\n",
              "      <div>\n",
              "<style scoped>\n",
              "    .dataframe tbody tr th:only-of-type {\n",
              "        vertical-align: middle;\n",
              "    }\n",
              "\n",
              "    .dataframe tbody tr th {\n",
              "        vertical-align: top;\n",
              "    }\n",
              "\n",
              "    .dataframe thead th {\n",
              "        text-align: right;\n",
              "    }\n",
              "</style>\n",
              "<table border=\"1\" class=\"dataframe\">\n",
              "  <thead>\n",
              "    <tr style=\"text-align: right;\">\n",
              "      <th></th>\n",
              "      <th>chrom1</th>\n",
              "      <th>start1</th>\n",
              "      <th>end1</th>\n",
              "      <th>chrom2</th>\n",
              "      <th>start2</th>\n",
              "      <th>end2</th>\n",
              "      <th>count</th>\n",
              "    </tr>\n",
              "  </thead>\n",
              "  <tbody>\n",
              "    <tr>\n",
              "      <th>0</th>\n",
              "      <td>chr2L</td>\n",
              "      <td>0</td>\n",
              "      <td>20000</td>\n",
              "      <td>chr2L</td>\n",
              "      <td>0</td>\n",
              "      <td>20000</td>\n",
              "      <td>4075</td>\n",
              "    </tr>\n",
              "    <tr>\n",
              "      <th>1</th>\n",
              "      <td>chr2L</td>\n",
              "      <td>0</td>\n",
              "      <td>20000</td>\n",
              "      <td>chr2L</td>\n",
              "      <td>20000</td>\n",
              "      <td>40000</td>\n",
              "      <td>481</td>\n",
              "    </tr>\n",
              "    <tr>\n",
              "      <th>2</th>\n",
              "      <td>chr2L</td>\n",
              "      <td>0</td>\n",
              "      <td>20000</td>\n",
              "      <td>chr2L</td>\n",
              "      <td>40000</td>\n",
              "      <td>60000</td>\n",
              "      <td>182</td>\n",
              "    </tr>\n",
              "    <tr>\n",
              "      <th>3</th>\n",
              "      <td>chr2L</td>\n",
              "      <td>0</td>\n",
              "      <td>20000</td>\n",
              "      <td>chr2L</td>\n",
              "      <td>60000</td>\n",
              "      <td>80000</td>\n",
              "      <td>183</td>\n",
              "    </tr>\n",
              "    <tr>\n",
              "      <th>4</th>\n",
              "      <td>chr2L</td>\n",
              "      <td>0</td>\n",
              "      <td>20000</td>\n",
              "      <td>chr2L</td>\n",
              "      <td>80000</td>\n",
              "      <td>100000</td>\n",
              "      <td>84</td>\n",
              "    </tr>\n",
              "    <tr>\n",
              "      <th>...</th>\n",
              "      <td>...</td>\n",
              "      <td>...</td>\n",
              "      <td>...</td>\n",
              "      <td>...</td>\n",
              "      <td>...</td>\n",
              "      <td>...</td>\n",
              "      <td>...</td>\n",
              "    </tr>\n",
              "    <tr>\n",
              "      <th>7122781</th>\n",
              "      <td>chrX</td>\n",
              "      <td>22380000</td>\n",
              "      <td>22400000</td>\n",
              "      <td>chrX</td>\n",
              "      <td>22420000</td>\n",
              "      <td>22422827</td>\n",
              "      <td>14</td>\n",
              "    </tr>\n",
              "    <tr>\n",
              "      <th>7122782</th>\n",
              "      <td>chrX</td>\n",
              "      <td>22400000</td>\n",
              "      <td>22420000</td>\n",
              "      <td>chrX</td>\n",
              "      <td>22400000</td>\n",
              "      <td>22420000</td>\n",
              "      <td>1694</td>\n",
              "    </tr>\n",
              "    <tr>\n",
              "      <th>7122783</th>\n",
              "      <td>chrX</td>\n",
              "      <td>22400000</td>\n",
              "      <td>22420000</td>\n",
              "      <td>chrX</td>\n",
              "      <td>22420000</td>\n",
              "      <td>22422827</td>\n",
              "      <td>27</td>\n",
              "    </tr>\n",
              "    <tr>\n",
              "      <th>7122784</th>\n",
              "      <td>chrX</td>\n",
              "      <td>22420000</td>\n",
              "      <td>22422827</td>\n",
              "      <td>chrX</td>\n",
              "      <td>22420000</td>\n",
              "      <td>22422827</td>\n",
              "      <td>244</td>\n",
              "    </tr>\n",
              "    <tr>\n",
              "      <th>7122785</th>\n",
              "      <td>chrM</td>\n",
              "      <td>0</td>\n",
              "      <td>19517</td>\n",
              "      <td>chrM</td>\n",
              "      <td>0</td>\n",
              "      <td>19517</td>\n",
              "      <td>99</td>\n",
              "    </tr>\n",
              "  </tbody>\n",
              "</table>\n",
              "<p>7122786 rows × 7 columns</p>\n",
              "</div>\n",
              "      <button class=\"colab-df-convert\" onclick=\"convertToInteractive('df-1f3535ff-6511-44a8-ae90-71f121919446')\"\n",
              "              title=\"Convert this dataframe to an interactive table.\"\n",
              "              style=\"display:none;\">\n",
              "        \n",
              "  <svg xmlns=\"http://www.w3.org/2000/svg\" height=\"24px\"viewBox=\"0 0 24 24\"\n",
              "       width=\"24px\">\n",
              "    <path d=\"M0 0h24v24H0V0z\" fill=\"none\"/>\n",
              "    <path d=\"M18.56 5.44l.94 2.06.94-2.06 2.06-.94-2.06-.94-.94-2.06-.94 2.06-2.06.94zm-11 1L8.5 8.5l.94-2.06 2.06-.94-2.06-.94L8.5 2.5l-.94 2.06-2.06.94zm10 10l.94 2.06.94-2.06 2.06-.94-2.06-.94-.94-2.06-.94 2.06-2.06.94z\"/><path d=\"M17.41 7.96l-1.37-1.37c-.4-.4-.92-.59-1.43-.59-.52 0-1.04.2-1.43.59L10.3 9.45l-7.72 7.72c-.78.78-.78 2.05 0 2.83L4 21.41c.39.39.9.59 1.41.59.51 0 1.02-.2 1.41-.59l7.78-7.78 2.81-2.81c.8-.78.8-2.07 0-2.86zM5.41 20L4 18.59l7.72-7.72 1.47 1.35L5.41 20z\"/>\n",
              "  </svg>\n",
              "      </button>\n",
              "      \n",
              "  <style>\n",
              "    .colab-df-container {\n",
              "      display:flex;\n",
              "      flex-wrap:wrap;\n",
              "      gap: 12px;\n",
              "    }\n",
              "\n",
              "    .colab-df-convert {\n",
              "      background-color: #E8F0FE;\n",
              "      border: none;\n",
              "      border-radius: 50%;\n",
              "      cursor: pointer;\n",
              "      display: none;\n",
              "      fill: #1967D2;\n",
              "      height: 32px;\n",
              "      padding: 0 0 0 0;\n",
              "      width: 32px;\n",
              "    }\n",
              "\n",
              "    .colab-df-convert:hover {\n",
              "      background-color: #E2EBFA;\n",
              "      box-shadow: 0px 1px 2px rgba(60, 64, 67, 0.3), 0px 1px 3px 1px rgba(60, 64, 67, 0.15);\n",
              "      fill: #174EA6;\n",
              "    }\n",
              "\n",
              "    [theme=dark] .colab-df-convert {\n",
              "      background-color: #3B4455;\n",
              "      fill: #D2E3FC;\n",
              "    }\n",
              "\n",
              "    [theme=dark] .colab-df-convert:hover {\n",
              "      background-color: #434B5C;\n",
              "      box-shadow: 0px 1px 3px 1px rgba(0, 0, 0, 0.15);\n",
              "      filter: drop-shadow(0px 1px 2px rgba(0, 0, 0, 0.3));\n",
              "      fill: #FFFFFF;\n",
              "    }\n",
              "  </style>\n",
              "\n",
              "      <script>\n",
              "        const buttonEl =\n",
              "          document.querySelector('#df-1f3535ff-6511-44a8-ae90-71f121919446 button.colab-df-convert');\n",
              "        buttonEl.style.display =\n",
              "          google.colab.kernel.accessAllowed ? 'block' : 'none';\n",
              "\n",
              "        async function convertToInteractive(key) {\n",
              "          const element = document.querySelector('#df-1f3535ff-6511-44a8-ae90-71f121919446');\n",
              "          const dataTable =\n",
              "            await google.colab.kernel.invokeFunction('convertToInteractive',\n",
              "                                                     [key], {});\n",
              "          if (!dataTable) return;\n",
              "\n",
              "          const docLinkHtml = 'Like what you see? Visit the ' +\n",
              "            '<a target=\"_blank\" href=https://colab.research.google.com/notebooks/data_table.ipynb>data table notebook</a>'\n",
              "            + ' to learn more about interactive tables.';\n",
              "          element.innerHTML = '';\n",
              "          dataTable['output_type'] = 'display_data';\n",
              "          await google.colab.output.renderOutput(dataTable, element);\n",
              "          const docLink = document.createElement('div');\n",
              "          docLink.innerHTML = docLinkHtml;\n",
              "          element.appendChild(docLink);\n",
              "        }\n",
              "      </script>\n",
              "    </div>\n",
              "  </div>\n",
              "  "
            ]
          },
          "metadata": {},
          "execution_count": 12
        }
      ]
    },
    {
      "cell_type": "code",
      "source": [
        "bins=clr.bins()[:]\n",
        "bins"
      ],
      "metadata": {
        "id": "eqOAvjUAMuZF",
        "colab": {
          "base_uri": "https://localhost:8080/",
          "height": 424
        },
        "outputId": "e99bc837-2e18-4144-ac9d-81ad6274632a"
      },
      "execution_count": 13,
      "outputs": [
        {
          "output_type": "execute_result",
          "data": {
            "text/plain": [
              "      chrom     start       end    weight\n",
              "0     chr2L         0     20000  0.015414\n",
              "1     chr2L     20000     40000  0.012686\n",
              "2     chr2L     40000     60000  0.017035\n",
              "3     chr2L     60000     80000  0.010652\n",
              "4     chr2L     80000    100000  0.010251\n",
              "...     ...       ...       ...       ...\n",
              "6019   chrX  22360000  22380000  0.028927\n",
              "6020   chrX  22380000  22400000  0.020546\n",
              "6021   chrX  22400000  22420000  0.040442\n",
              "6022   chrX  22420000  22422827       NaN\n",
              "6023   chrM         0     19517  2.949650\n",
              "\n",
              "[6024 rows x 4 columns]"
            ],
            "text/html": [
              "\n",
              "  <div id=\"df-d291e59b-bf7f-4d86-ae3d-d515ef90feeb\">\n",
              "    <div class=\"colab-df-container\">\n",
              "      <div>\n",
              "<style scoped>\n",
              "    .dataframe tbody tr th:only-of-type {\n",
              "        vertical-align: middle;\n",
              "    }\n",
              "\n",
              "    .dataframe tbody tr th {\n",
              "        vertical-align: top;\n",
              "    }\n",
              "\n",
              "    .dataframe thead th {\n",
              "        text-align: right;\n",
              "    }\n",
              "</style>\n",
              "<table border=\"1\" class=\"dataframe\">\n",
              "  <thead>\n",
              "    <tr style=\"text-align: right;\">\n",
              "      <th></th>\n",
              "      <th>chrom</th>\n",
              "      <th>start</th>\n",
              "      <th>end</th>\n",
              "      <th>weight</th>\n",
              "    </tr>\n",
              "  </thead>\n",
              "  <tbody>\n",
              "    <tr>\n",
              "      <th>0</th>\n",
              "      <td>chr2L</td>\n",
              "      <td>0</td>\n",
              "      <td>20000</td>\n",
              "      <td>0.015414</td>\n",
              "    </tr>\n",
              "    <tr>\n",
              "      <th>1</th>\n",
              "      <td>chr2L</td>\n",
              "      <td>20000</td>\n",
              "      <td>40000</td>\n",
              "      <td>0.012686</td>\n",
              "    </tr>\n",
              "    <tr>\n",
              "      <th>2</th>\n",
              "      <td>chr2L</td>\n",
              "      <td>40000</td>\n",
              "      <td>60000</td>\n",
              "      <td>0.017035</td>\n",
              "    </tr>\n",
              "    <tr>\n",
              "      <th>3</th>\n",
              "      <td>chr2L</td>\n",
              "      <td>60000</td>\n",
              "      <td>80000</td>\n",
              "      <td>0.010652</td>\n",
              "    </tr>\n",
              "    <tr>\n",
              "      <th>4</th>\n",
              "      <td>chr2L</td>\n",
              "      <td>80000</td>\n",
              "      <td>100000</td>\n",
              "      <td>0.010251</td>\n",
              "    </tr>\n",
              "    <tr>\n",
              "      <th>...</th>\n",
              "      <td>...</td>\n",
              "      <td>...</td>\n",
              "      <td>...</td>\n",
              "      <td>...</td>\n",
              "    </tr>\n",
              "    <tr>\n",
              "      <th>6019</th>\n",
              "      <td>chrX</td>\n",
              "      <td>22360000</td>\n",
              "      <td>22380000</td>\n",
              "      <td>0.028927</td>\n",
              "    </tr>\n",
              "    <tr>\n",
              "      <th>6020</th>\n",
              "      <td>chrX</td>\n",
              "      <td>22380000</td>\n",
              "      <td>22400000</td>\n",
              "      <td>0.020546</td>\n",
              "    </tr>\n",
              "    <tr>\n",
              "      <th>6021</th>\n",
              "      <td>chrX</td>\n",
              "      <td>22400000</td>\n",
              "      <td>22420000</td>\n",
              "      <td>0.040442</td>\n",
              "    </tr>\n",
              "    <tr>\n",
              "      <th>6022</th>\n",
              "      <td>chrX</td>\n",
              "      <td>22420000</td>\n",
              "      <td>22422827</td>\n",
              "      <td>NaN</td>\n",
              "    </tr>\n",
              "    <tr>\n",
              "      <th>6023</th>\n",
              "      <td>chrM</td>\n",
              "      <td>0</td>\n",
              "      <td>19517</td>\n",
              "      <td>2.949650</td>\n",
              "    </tr>\n",
              "  </tbody>\n",
              "</table>\n",
              "<p>6024 rows × 4 columns</p>\n",
              "</div>\n",
              "      <button class=\"colab-df-convert\" onclick=\"convertToInteractive('df-d291e59b-bf7f-4d86-ae3d-d515ef90feeb')\"\n",
              "              title=\"Convert this dataframe to an interactive table.\"\n",
              "              style=\"display:none;\">\n",
              "        \n",
              "  <svg xmlns=\"http://www.w3.org/2000/svg\" height=\"24px\"viewBox=\"0 0 24 24\"\n",
              "       width=\"24px\">\n",
              "    <path d=\"M0 0h24v24H0V0z\" fill=\"none\"/>\n",
              "    <path d=\"M18.56 5.44l.94 2.06.94-2.06 2.06-.94-2.06-.94-.94-2.06-.94 2.06-2.06.94zm-11 1L8.5 8.5l.94-2.06 2.06-.94-2.06-.94L8.5 2.5l-.94 2.06-2.06.94zm10 10l.94 2.06.94-2.06 2.06-.94-2.06-.94-.94-2.06-.94 2.06-2.06.94z\"/><path d=\"M17.41 7.96l-1.37-1.37c-.4-.4-.92-.59-1.43-.59-.52 0-1.04.2-1.43.59L10.3 9.45l-7.72 7.72c-.78.78-.78 2.05 0 2.83L4 21.41c.39.39.9.59 1.41.59.51 0 1.02-.2 1.41-.59l7.78-7.78 2.81-2.81c.8-.78.8-2.07 0-2.86zM5.41 20L4 18.59l7.72-7.72 1.47 1.35L5.41 20z\"/>\n",
              "  </svg>\n",
              "      </button>\n",
              "      \n",
              "  <style>\n",
              "    .colab-df-container {\n",
              "      display:flex;\n",
              "      flex-wrap:wrap;\n",
              "      gap: 12px;\n",
              "    }\n",
              "\n",
              "    .colab-df-convert {\n",
              "      background-color: #E8F0FE;\n",
              "      border: none;\n",
              "      border-radius: 50%;\n",
              "      cursor: pointer;\n",
              "      display: none;\n",
              "      fill: #1967D2;\n",
              "      height: 32px;\n",
              "      padding: 0 0 0 0;\n",
              "      width: 32px;\n",
              "    }\n",
              "\n",
              "    .colab-df-convert:hover {\n",
              "      background-color: #E2EBFA;\n",
              "      box-shadow: 0px 1px 2px rgba(60, 64, 67, 0.3), 0px 1px 3px 1px rgba(60, 64, 67, 0.15);\n",
              "      fill: #174EA6;\n",
              "    }\n",
              "\n",
              "    [theme=dark] .colab-df-convert {\n",
              "      background-color: #3B4455;\n",
              "      fill: #D2E3FC;\n",
              "    }\n",
              "\n",
              "    [theme=dark] .colab-df-convert:hover {\n",
              "      background-color: #434B5C;\n",
              "      box-shadow: 0px 1px 3px 1px rgba(0, 0, 0, 0.15);\n",
              "      filter: drop-shadow(0px 1px 2px rgba(0, 0, 0, 0.3));\n",
              "      fill: #FFFFFF;\n",
              "    }\n",
              "  </style>\n",
              "\n",
              "      <script>\n",
              "        const buttonEl =\n",
              "          document.querySelector('#df-d291e59b-bf7f-4d86-ae3d-d515ef90feeb button.colab-df-convert');\n",
              "        buttonEl.style.display =\n",
              "          google.colab.kernel.accessAllowed ? 'block' : 'none';\n",
              "\n",
              "        async function convertToInteractive(key) {\n",
              "          const element = document.querySelector('#df-d291e59b-bf7f-4d86-ae3d-d515ef90feeb');\n",
              "          const dataTable =\n",
              "            await google.colab.kernel.invokeFunction('convertToInteractive',\n",
              "                                                     [key], {});\n",
              "          if (!dataTable) return;\n",
              "\n",
              "          const docLinkHtml = 'Like what you see? Visit the ' +\n",
              "            '<a target=\"_blank\" href=https://colab.research.google.com/notebooks/data_table.ipynb>data table notebook</a>'\n",
              "            + ' to learn more about interactive tables.';\n",
              "          element.innerHTML = '';\n",
              "          dataTable['output_type'] = 'display_data';\n",
              "          await google.colab.output.renderOutput(dataTable, element);\n",
              "          const docLink = document.createElement('div');\n",
              "          docLink.innerHTML = docLinkHtml;\n",
              "          element.appendChild(docLink);\n",
              "        }\n",
              "      </script>\n",
              "    </div>\n",
              "  </div>\n",
              "  "
            ]
          },
          "metadata": {},
          "execution_count": 13
        }
      ]
    },
    {
      "cell_type": "code",
      "source": [
        "plt.imshow(np.log(m[120:180,120:180]),cmap='coolwarm')"
      ],
      "metadata": {
        "colab": {
          "base_uri": "https://localhost:8080/",
          "height": 484
        },
        "id": "Q87gspNCNMNJ",
        "outputId": "5a8b16bb-d0e8-485b-c07b-eeef53e40c2d"
      },
      "execution_count": 14,
      "outputs": [
        {
          "output_type": "stream",
          "name": "stderr",
          "text": [
            "<ipython-input-14-57c1b47ce89e>:1: RuntimeWarning: divide by zero encountered in log\n",
            "  plt.imshow(np.log(m[120:180,120:180]),cmap='coolwarm')\n"
          ]
        },
        {
          "output_type": "execute_result",
          "data": {
            "text/plain": [
              "<matplotlib.image.AxesImage at 0x7f200b7039a0>"
            ]
          },
          "metadata": {},
          "execution_count": 14
        },
        {
          "output_type": "display_data",
          "data": {
            "text/plain": [
              "<Figure size 640x480 with 1 Axes>"
            ],
            "image/png": "[encoded data removed]"
          },
          "metadata": {}
        }
      ]
    },
    {
      "cell_type": "markdown",
      "source": [
        "**Описание:** Hi-C карта, которая показывает взаимодействие контактов внутри X хромосомы.\n"
      ],
      "metadata": {
        "id": "nm95QrS2Aeto"
      }
    },
    {
      "cell_type": "code",
      "source": [
        "z=np.zeros(len(m)) # Создаём массив z, заполненный нулями и равный длине матрицы m\n",
        "for i in range(len(m)): # Циклом проходимся по индексам от нуля до длины матрицы\n",
        "  z[i]=np.nanmean(np.diagonal(m,i)) # Считаем среднее для диагонали, сдвинутой на i элементов от главной диагонали, при этом игнорируем nan значения"
      ],
      "metadata": {
        "colab": {
          "base_uri": "https://localhost:8080/"
        },
        "id": "8zHqczj8NnFP",
        "outputId": "432b6529-d5fa-419c-9d26-c36955b966e5"
      },
      "execution_count": 15,
      "outputs": [
        {
          "output_type": "stream",
          "name": "stderr",
          "text": [
            "<ipython-input-15-fb4ad6a8632f>:3: RuntimeWarning: Mean of empty slice\n",
            "  z[i]=np.nanmean(np.diagonal(m,i)) # Считаем среднее для диагонали, сдвинутой на i элементов от главной диагонали, при этом игнорируем nan значения\n"
          ]
        }
      ]
    },
    {
      "cell_type": "code",
      "source": [
        "##!!! Мы вставили ниже 20000 (указанная раннее дистанция/разрешение), потому что нам нужно расстояние в логарифмическом масштабе, а не бины\n",
        "plt.plot(np.arange(len(m))*20000,z) # Указываем x и y для графика\n",
        "plt.xscale('log') # Устанавливаем логарифмическую шкалу для оси x (значения буду отображаться в логарифмическом масштабе)\n",
        "plt.xlabel('Расстояние между участками диагонали (магабаз)') # Задаём название оси x\n",
        "plt.yscale('log') # Устанавливаем логарифмическую шкалу для оси y (значения буду отображаться в логарифмическом масштабе)\n",
        "plt.ylabel('Частота контакта (количество)') # Задаём название оси y"
      ],
      "metadata": {
        "colab": {
          "base_uri": "https://localhost:8080/",
          "height": 471
        },
        "id": "m24kzwmAOoNa",
        "outputId": "0c9a611d-6771-4721-89e1-284601616d68"
      },
      "execution_count": 16,
      "outputs": [
        {
          "output_type": "execute_result",
          "data": {
            "text/plain": [
              "Text(0, 0.5, 'Частота контакта (количество)')"
            ]
          },
          "metadata": {},
          "execution_count": 16
        },
        {
          "output_type": "display_data",
          "data": {
            "text/plain": [
              "<Figure size 640x480 with 1 Axes>"
            ],
            "image/png": "[encoded data removed]"
          },
          "metadata": {}
        }
      ]
    },
    {
      "cell_type": "markdown",
      "source": [
        "**Описание:** скейлинг график, который показывает, что участки, которые ближе всего друг к другу находятся, имеют более высокую частоту контакта. И чем дальше расстояние, тем ниже частота контакта."
      ],
      "metadata": {
        "id": "nqwtlFXeOLzT"
      }
    },
    {
      "cell_type": "markdown",
      "source": [
        "## Построение дендрограммы реплик Hi-C для клеточных линий дрозофилы"
      ],
      "metadata": {
        "id": "4ln7xFqoBKcw"
      }
    },
    {
      "cell_type": "markdown",
      "source": [
        "\n",
        "*   HiC1 и HiC2 - bg3\n",
        "*   HiC3 и HiC4 - kc167"
      ],
      "metadata": {
        "id": "co28tgnq3Rfd"
      }
    },
    {
      "cell_type": "code",
      "source": [
        "binSize = 20000 # Размер бина - разрешение (resolution)\n",
        "dBPMax = 5000000 # Максимальное расстояние между участками генома\n",
        "bDownSample = True # Выравнивание реплик до суммарного контакта / уменьшение выборки\n",
        "h=0 # Сглаживание (размер фильтра)\n",
        "\n",
        "similarity_matrix = []\n",
        "for i in [1,2,3,4]:\n",
        "  scc_matrix = []\n",
        "  for j in [1,2,3,4]:\n",
        "    fmcool1 = f'drive/MyDrive/HSE_HiC_minor/HiC{i}.dm3.mapq_30.1000.mcool'\n",
        "    fmcool2 = f'drive/MyDrive/HSE_HiC_minor/HiC{j}.dm3.mapq_30.1000.mcool'\n",
        "    cool1, binSize1 = readMcool(fmcool1, binSize)\n",
        "    cool2, binSize2 = readMcool(fmcool2, binSize)\n",
        "    scc_matrix.append(np.nanmean(hicrepSCC(cool1, cool2, h, dBPMax, bDownSample)))\n",
        "  similarity_matrix.append(scc_matrix)"
      ],
      "metadata": {
        "colab": {
          "base_uri": "https://localhost:8080/"
        },
        "id": "IEGZxslHHK2O",
        "outputId": "e419bc28-af48-4870-d60d-bb8e6797201d"
      },
      "execution_count": 18,
      "outputs": [
        {
          "output_type": "stream",
          "name": "stderr",
          "text": [
            "/usr/local/lib/python3.10/site-packages/hicrep/hicrep.py:91: RuntimeWarning: invalid value encountered in double_scalars\n",
            "  return rhoNan2Zero @ wsNan2Zero / wsNan2Zero.sum()\n",
            "/usr/local/lib/python3.10/site-packages/hicrep/hicrep.py:91: RuntimeWarning: invalid value encountered in double_scalars\n",
            "  return rhoNan2Zero @ wsNan2Zero / wsNan2Zero.sum()\n",
            "/usr/local/lib/python3.10/site-packages/hicrep/hicrep.py:91: RuntimeWarning: invalid value encountered in double_scalars\n",
            "  return rhoNan2Zero @ wsNan2Zero / wsNan2Zero.sum()\n",
            "/usr/local/lib/python3.10/site-packages/hicrep/hicrep.py:91: RuntimeWarning: invalid value encountered in double_scalars\n",
            "  return rhoNan2Zero @ wsNan2Zero / wsNan2Zero.sum()\n",
            "/usr/local/lib/python3.10/site-packages/hicrep/hicrep.py:91: RuntimeWarning: invalid value encountered in double_scalars\n",
            "  return rhoNan2Zero @ wsNan2Zero / wsNan2Zero.sum()\n",
            "/usr/local/lib/python3.10/site-packages/hicrep/hicrep.py:91: RuntimeWarning: invalid value encountered in double_scalars\n",
            "  return rhoNan2Zero @ wsNan2Zero / wsNan2Zero.sum()\n",
            "/usr/local/lib/python3.10/site-packages/hicrep/hicrep.py:91: RuntimeWarning: invalid value encountered in double_scalars\n",
            "  return rhoNan2Zero @ wsNan2Zero / wsNan2Zero.sum()\n",
            "/usr/local/lib/python3.10/site-packages/hicrep/hicrep.py:91: RuntimeWarning: invalid value encountered in double_scalars\n",
            "  return rhoNan2Zero @ wsNan2Zero / wsNan2Zero.sum()\n",
            "/usr/local/lib/python3.10/site-packages/hicrep/hicrep.py:91: RuntimeWarning: invalid value encountered in double_scalars\n",
            "  return rhoNan2Zero @ wsNan2Zero / wsNan2Zero.sum()\n",
            "/usr/local/lib/python3.10/site-packages/hicrep/hicrep.py:91: RuntimeWarning: invalid value encountered in double_scalars\n",
            "  return rhoNan2Zero @ wsNan2Zero / wsNan2Zero.sum()\n",
            "/usr/local/lib/python3.10/site-packages/hicrep/hicrep.py:91: RuntimeWarning: invalid value encountered in double_scalars\n",
            "  return rhoNan2Zero @ wsNan2Zero / wsNan2Zero.sum()\n",
            "/usr/local/lib/python3.10/site-packages/hicrep/hicrep.py:91: RuntimeWarning: invalid value encountered in double_scalars\n",
            "  return rhoNan2Zero @ wsNan2Zero / wsNan2Zero.sum()\n",
            "/usr/local/lib/python3.10/site-packages/hicrep/hicrep.py:91: RuntimeWarning: invalid value encountered in double_scalars\n",
            "  return rhoNan2Zero @ wsNan2Zero / wsNan2Zero.sum()\n",
            "/usr/local/lib/python3.10/site-packages/hicrep/hicrep.py:91: RuntimeWarning: invalid value encountered in double_scalars\n",
            "  return rhoNan2Zero @ wsNan2Zero / wsNan2Zero.sum()\n",
            "/usr/local/lib/python3.10/site-packages/hicrep/hicrep.py:91: RuntimeWarning: invalid value encountered in double_scalars\n",
            "  return rhoNan2Zero @ wsNan2Zero / wsNan2Zero.sum()\n",
            "/usr/local/lib/python3.10/site-packages/hicrep/hicrep.py:91: RuntimeWarning: invalid value encountered in double_scalars\n",
            "  return rhoNan2Zero @ wsNan2Zero / wsNan2Zero.sum()\n"
          ]
        }
      ]
    },
    {
      "cell_type": "code",
      "source": [
        "similarity_matrix"
      ],
      "metadata": {
        "colab": {
          "base_uri": "https://localhost:8080/"
        },
        "id": "1j-Y2c7N6RCQ",
        "outputId": "7c31524c-d901-4f66-b1eb-f2d873479cf4"
      },
      "execution_count": 19,
      "outputs": [
        {
          "output_type": "execute_result",
          "data": {
            "text/plain": [
              "[[0.9997391757955137,\n",
              "  0.6713708986506667,\n",
              "  0.41768466731917386,\n",
              "  0.39071800103894927],\n",
              " [0.6716903859807304, 1.0, 0.42592787955421746, 0.39475300089879406],\n",
              " [0.4173475946452255,\n",
              "  0.42470139060699386,\n",
              "  0.9997442455242966,\n",
              "  0.6546638291090906],\n",
              " [0.39093731977741375, 0.39406073260973357, 0.6553095982859322, 1.0]]"
            ]
          },
          "metadata": {},
          "execution_count": 19
        }
      ]
    },
    {
      "cell_type": "code",
      "source": [
        "samples = ['HiC1','HiC2','HiC3','HiC4']\n",
        "dendrogram = hierarchy.dendrogram(hierarchy.linkage(similarity_matrix, method='single', metric='correlation'), labels = samples, orientation='right')\n",
        "\n",
        "plt.xlabel('Расстояние')\n",
        "plt.xticks(rotation=90)\n",
        "\n",
        "plt.ylabel('Образцы')\n",
        "\n",
        "plt.title('Дендрограмма реплик Hi-C')\n",
        "\n",
        "plt.show()"
      ],
      "metadata": {
        "colab": {
          "base_uri": "https://localhost:8080/",
          "height": 488
        },
        "id": "8Z5nAjbxaJ3S",
        "outputId": "e481c455-f365-4d75-8347-aaeadcfcdde7"
      },
      "execution_count": 20,
      "outputs": [
        {
          "output_type": "display_data",
          "data": {
            "text/plain": [
              "<Figure size 640x480 with 1 Axes>"
            ],
            "image/png": "[encoded data removed]"
          },
          "metadata": {}
        }
      ]
    },
    {
      "cell_type": "markdown",
      "source": [
        "**Описание:** дендрограмма показывает, что реплики одной и той же клеточной линии имеют тенденцию быть ближе друг к другу по сравнению с разными типами клеток."
      ],
      "metadata": {
        "id": "UJbLEscUkKms"
      }
    }
  ]
}