{
  "nbformat": 4,
  "nbformat_minor": 0,
  "metadata": {
    "colab": {
      "provenance": [],
      "collapsed_sections": []
    },
    "kernelspec": {
      "name": "python3",
      "display_name": "Python 3"
    },
    "language_info": {
      "name": "python"
    }
  },
  "cells": [
    {
      "cell_type": "code",
      "source": [
        "!pip install biopython"
      ],
      "metadata": {
        "colab": {
          "base_uri": "https://localhost:8080/"
        },
        "id": "AZ2JuouulnjZ",
        "outputId": "4de3ec50-ab03-4c18-ad14-5ff7df847cdd"
      },
      "execution_count": 1,
      "outputs": [
        {
          "output_type": "stream",
          "name": "stdout",
          "text": [
            "Looking in indexes: https://pypi.org/simple, https://us-python.pkg.dev/colab-wheels/public/simple/\n",
            "Requirement already satisfied: biopython in /usr/local/lib/python3.7/dist-packages (1.79)\n",
            "Requirement already satisfied: numpy in /usr/local/lib/python3.7/dist-packages (from biopython) (1.21.6)\n"
          ]
        }
      ]
    },
    {
      "cell_type": "code",
      "source": [
        "from Bio import SeqIO\n",
        "import re"
      ],
      "metadata": {
        "id": "9kP9_uxZUKb1"
      },
      "execution_count": 2,
      "outputs": []
    },
    {
      "cell_type": "code",
      "source": [
        "#Сортируем длины от большего к меньшему, и суммируем их, пока сумма не будет покрывать 50% длины сборки\n",
        "#Длина последнего добавленного контига и есть N50\n",
        "def N50(lengths, sum_length):\n",
        "  current_sum_length = 0\n",
        "  for length in sorted(lengths, reverse=True):\n",
        "    current_sum_length += length\n",
        "    if current_sum_length / sum_length >= 0.5:\n",
        "      N50 = length\n",
        "      break\n",
        "  return N50"
      ],
      "metadata": {
        "id": "Y_L6mv1LUGkZ"
      },
      "execution_count": 3,
      "outputs": []
    },
    {
      "cell_type": "code",
      "source": [
        "def analise(filename, text):\n",
        "  #С помощью SeqIO.parse() получаем итератор из всех последовательностей файла, затем с помощью map() считаем длину каждой и получаем список\n",
        "  lengths = list(map(len, SeqIO.parse(open(filename, 'r'), 'fasta')))\n",
        "  #Общая длина последовательностей\n",
        "  sum_length = sum(lengths)\n",
        "\n",
        "  print(f'Анализ полученных {text}:')\n",
        "  print(f'·Количество: {len(lengths)}')\n",
        "  print(f'·Общая длина: {sum_length}')\n",
        "  print(f'·Максимальная длина: {max(lengths)}')\n",
        "  print(f'·N50: {N50(lengths,sum_length)}')\n",
        "  return"
      ],
      "metadata": {
        "id": "8W3oienWkXTJ"
      },
      "execution_count": 4,
      "outputs": []
    },
    {
      "cell_type": "code",
      "source": [
        "analise('contigs.fa', 'контигов')"
      ],
      "metadata": {
        "colab": {
          "base_uri": "https://localhost:8080/"
        },
        "id": "-Ur_v_rfk2fh",
        "outputId": "ef71e063-3989-413f-f6f5-981f3e551eb9"
      },
      "execution_count": 5,
      "outputs": [
        {
          "output_type": "stream",
          "name": "stdout",
          "text": [
            "Анализ полученных контигов:\n",
            "·Количество: 702\n",
            "·Общая длина: 3923989\n",
            "·Максимальная длина: 225283\n",
            "·N50: 67653\n"
          ]
        }
      ]
    },
    {
      "cell_type": "code",
      "source": [
        "analise('scaffolds.fa', 'скаффолдов')"
      ],
      "metadata": {
        "colab": {
          "base_uri": "https://localhost:8080/"
        },
        "id": "YZxC-04FUaHY",
        "outputId": "c2d4548b-dcee-41d4-8eb7-43a3c0b7d3cc"
      },
      "execution_count": 6,
      "outputs": [
        {
          "output_type": "stream",
          "name": "stdout",
          "text": [
            "Анализ полученных скаффолдов:\n",
            "·Количество: 84\n",
            "·Общая длина: 3869445\n",
            "·Максимальная длина: 3829580\n",
            "·N50: 3829580\n"
          ]
        }
      ]
    },
    {
      "cell_type": "code",
      "source": [
        "def gap(filename,text):\n",
        "  print(f'{text} gapClosed:')\n",
        "  #Получаем максимально длинный скаффолд\n",
        "  scaffold = max(SeqIO.parse(open(filename, 'r'), 'fasta'),key=lambda s:len(s))\n",
        "  with open('longest_'+filename,'w') as stream:\n",
        "    print(str(scaffold.seq),file = stream)    \n",
        "  print(f'·Количество гэпов: {len(re.findall(\"N{1,}\", str(scaffold.seq)))}')\n",
        "  print(f'·Общая длина гэпов: {str(scaffold.seq).count(\"N\")}')"
      ],
      "metadata": {
        "id": "pXE6NjL6atZf"
      },
      "execution_count": 7,
      "outputs": []
    },
    {
      "cell_type": "code",
      "source": [
        "gap('scaffolds.fa','До')"
      ],
      "metadata": {
        "colab": {
          "base_uri": "https://localhost:8080/"
        },
        "id": "SH3f30NklJe9",
        "outputId": "d23d8c6b-dc57-4e46-8625-b7f10bc2ff27"
      },
      "execution_count": 8,
      "outputs": [
        {
          "output_type": "stream",
          "name": "stdout",
          "text": [
            "До gapClosed:\n",
            "·Количество гэпов: 64\n",
            "·Общая длина гэпов: 8582\n"
          ]
        }
      ]
    },
    {
      "cell_type": "code",
      "source": [
        "gap('Poil_gapClosed.fa','После')"
      ],
      "metadata": {
        "colab": {
          "base_uri": "https://localhost:8080/"
        },
        "id": "b-0P4Q_zlMT6",
        "outputId": "bb5e024b-ce2e-49cc-e554-4a54d4fe46a3"
      },
      "execution_count": 9,
      "outputs": [
        {
          "output_type": "stream",
          "name": "stdout",
          "text": [
            "После gapClosed:\n",
            "·Количество гэпов: 18\n",
            "·Общая длина гэпов: 4179\n"
          ]
        }
      ]
    }
  ]
}